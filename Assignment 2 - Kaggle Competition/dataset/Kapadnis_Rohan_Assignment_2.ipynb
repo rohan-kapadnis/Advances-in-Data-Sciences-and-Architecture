{
 "cells": [
  {
   "cell_type": "markdown",
   "metadata": {
    "id": "SSXkQ3VmzasT"
   },
   "source": [
    "# **Advances in Data Sciences and Architecture**\n",
    "## Name : **Rohan Kapadnis**\n",
    "## NUID : **1342161**\n",
    "## Assignment 2: **Kaggle**"
   ]
  },
  {
   "cell_type": "markdown",
   "metadata": {
    "id": "NIjueByur1Tv"
   },
   "source": [
    "## **Data :** \n",
    "\n",
    "**Id** : Restaurant id. \n",
    "\n",
    "**Open Date** : opening date for a restaurant\n",
    "\n",
    "**City** : City that the restaurant is in. Note that there are unicode in the names. \n",
    "\n",
    "**City Group**: Type of the city. Big cities, or Other. \n",
    "\n",
    "**Type**: Type of the restaurant. FC: Food Court, IL: Inline, DT: Drive Thru, MB: Mobile\n",
    "\n",
    "**P1, P2 - P37**: There are three categories of these obfuscated data. Demographic data are gathered from third party providers with GIS systems. These include population in any given area, age and gender distribution, development scales. Real estate data mainly relate to the m2 of the location, front facade of the location, car park availability. Commercial data mainly include the existence of points of interest including schools, banks, other QSR operators.\n",
    "\n",
    "**Revenue**: The revenue column indicates a (transformed) revenue of the restaurant in a given year and is the target of predictive analysis. Please note that the values are transformed so they don't mean real dollar values. "
   ]
  },
  {
   "cell_type": "markdown",
   "metadata": {
    "id": "F03r-FeGZ0PC"
   },
   "source": [
    "## **Abstract** : \n",
    "> *The agenda of this notebook is to predict the revenue for any upcoming setting of restaurant and finding a mathematical model to increase the effectiveness of investments in new restaurant sites. There are three types of restaurant which have been encountered. They are inline(IL), food court(FC), and mobile(M). In the proposed solution, I have taken into consideration the various features of the datasets for the prediction. The input features were ordered based on their impact on the target attribute, restaurant revenue. Pre-processing, feature selection and encoding has been done. Algorithms are then evaluated on the test data after being trained on the training datasets. XGBoost was found to be the best performing model*. "
   ]
  },
  {
   "cell_type": "markdown",
   "metadata": {
    "id": "Uz4fKvjGznSR"
   },
   "source": [
    "## Downloading the libraries"
   ]
  },
  {
   "cell_type": "code",
   "execution_count": null,
   "metadata": {
    "id": "s64BIoBRzuHa"
   },
   "outputs": [],
   "source": [
    "pip install pandas"
   ]
  },
  {
   "cell_type": "code",
   "execution_count": null,
   "metadata": {
    "id": "A2ZbrbOIzxEG"
   },
   "outputs": [],
   "source": [
    "pip install numpy"
   ]
  },
  {
   "cell_type": "code",
   "execution_count": null,
   "metadata": {
    "id": "2fWLaUUZz0YL"
   },
   "outputs": [],
   "source": [
    "pip install matplotlib"
   ]
  },
  {
   "cell_type": "code",
   "execution_count": null,
   "metadata": {
    "id": "cv55X_Qbz4Zr"
   },
   "outputs": [],
   "source": [
    "pip install seaborn"
   ]
  },
  {
   "cell_type": "code",
   "execution_count": null,
   "metadata": {
    "id": "RiDwtReVz53X"
   },
   "outputs": [],
   "source": [
    "pip install sklearn"
   ]
  },
  {
   "cell_type": "code",
   "execution_count": null,
   "metadata": {
    "id": "VtCeVMH7197j"
   },
   "outputs": [],
   "source": [
    "pip install xgboost"
   ]
  },
  {
   "cell_type": "markdown",
   "metadata": {
    "id": "AkEaDUL0LGGy"
   },
   "source": [
    "## Importing the libraries"
   ]
  },
  {
   "cell_type": "code",
   "execution_count": 2,
   "metadata": {
    "id": "SThJztJdKGMK"
   },
   "outputs": [],
   "source": [
    "import numpy as np\n",
    "import pandas as pd\n",
    "import matplotlib.pyplot as plt\n",
    "import seaborn as sns\n",
    "%matplotlib inline\n",
    "import warnings"
   ]
  },
  {
   "cell_type": "markdown",
   "metadata": {
    "id": "_aGWwxz3LL7r"
   },
   "source": [
    "## Loading the dataset "
   ]
  },
  {
   "cell_type": "code",
   "execution_count": 16,
   "metadata": {
    "colab": {
     "base_uri": "https://localhost:8080/",
     "height": 541
    },
    "id": "5lcxPOCPMqBp",
    "outputId": "38c85945-844e-4b50-8fe5-c056f8bca0a2"
   },
   "outputs": [
    {
     "data": {
      "text/html": [
       "<div>\n",
       "<style scoped>\n",
       "    .dataframe tbody tr th:only-of-type {\n",
       "        vertical-align: middle;\n",
       "    }\n",
       "\n",
       "    .dataframe tbody tr th {\n",
       "        vertical-align: top;\n",
       "    }\n",
       "\n",
       "    .dataframe thead th {\n",
       "        text-align: right;\n",
       "    }\n",
       "</style>\n",
       "<table border=\"1\" class=\"dataframe\">\n",
       "  <thead>\n",
       "    <tr style=\"text-align: right;\">\n",
       "      <th></th>\n",
       "      <th>Id</th>\n",
       "      <th>Open Date</th>\n",
       "      <th>City</th>\n",
       "      <th>City Group</th>\n",
       "      <th>Type</th>\n",
       "      <th>P1</th>\n",
       "      <th>P2</th>\n",
       "      <th>P3</th>\n",
       "      <th>P4</th>\n",
       "      <th>P5</th>\n",
       "      <th>...</th>\n",
       "      <th>P29</th>\n",
       "      <th>P30</th>\n",
       "      <th>P31</th>\n",
       "      <th>P32</th>\n",
       "      <th>P33</th>\n",
       "      <th>P34</th>\n",
       "      <th>P35</th>\n",
       "      <th>P36</th>\n",
       "      <th>P37</th>\n",
       "      <th>revenue</th>\n",
       "    </tr>\n",
       "  </thead>\n",
       "  <tbody>\n",
       "    <tr>\n",
       "      <td>0</td>\n",
       "      <td>0</td>\n",
       "      <td>07/17/1999</td>\n",
       "      <td>İstanbul</td>\n",
       "      <td>Big Cities</td>\n",
       "      <td>IL</td>\n",
       "      <td>4</td>\n",
       "      <td>5.0</td>\n",
       "      <td>4.0</td>\n",
       "      <td>4.0</td>\n",
       "      <td>2</td>\n",
       "      <td>...</td>\n",
       "      <td>3.0</td>\n",
       "      <td>5</td>\n",
       "      <td>3</td>\n",
       "      <td>4</td>\n",
       "      <td>5</td>\n",
       "      <td>5</td>\n",
       "      <td>4</td>\n",
       "      <td>3</td>\n",
       "      <td>4</td>\n",
       "      <td>5653753.0</td>\n",
       "    </tr>\n",
       "    <tr>\n",
       "      <td>1</td>\n",
       "      <td>1</td>\n",
       "      <td>02/14/2008</td>\n",
       "      <td>Ankara</td>\n",
       "      <td>Big Cities</td>\n",
       "      <td>FC</td>\n",
       "      <td>4</td>\n",
       "      <td>5.0</td>\n",
       "      <td>4.0</td>\n",
       "      <td>4.0</td>\n",
       "      <td>1</td>\n",
       "      <td>...</td>\n",
       "      <td>3.0</td>\n",
       "      <td>0</td>\n",
       "      <td>0</td>\n",
       "      <td>0</td>\n",
       "      <td>0</td>\n",
       "      <td>0</td>\n",
       "      <td>0</td>\n",
       "      <td>0</td>\n",
       "      <td>0</td>\n",
       "      <td>6923131.0</td>\n",
       "    </tr>\n",
       "    <tr>\n",
       "      <td>2</td>\n",
       "      <td>2</td>\n",
       "      <td>03/09/2013</td>\n",
       "      <td>Diyarbakır</td>\n",
       "      <td>Other</td>\n",
       "      <td>IL</td>\n",
       "      <td>2</td>\n",
       "      <td>4.0</td>\n",
       "      <td>2.0</td>\n",
       "      <td>5.0</td>\n",
       "      <td>2</td>\n",
       "      <td>...</td>\n",
       "      <td>3.0</td>\n",
       "      <td>0</td>\n",
       "      <td>0</td>\n",
       "      <td>0</td>\n",
       "      <td>0</td>\n",
       "      <td>0</td>\n",
       "      <td>0</td>\n",
       "      <td>0</td>\n",
       "      <td>0</td>\n",
       "      <td>2055379.0</td>\n",
       "    </tr>\n",
       "    <tr>\n",
       "      <td>3</td>\n",
       "      <td>3</td>\n",
       "      <td>02/02/2012</td>\n",
       "      <td>Tokat</td>\n",
       "      <td>Other</td>\n",
       "      <td>IL</td>\n",
       "      <td>6</td>\n",
       "      <td>4.5</td>\n",
       "      <td>6.0</td>\n",
       "      <td>6.0</td>\n",
       "      <td>4</td>\n",
       "      <td>...</td>\n",
       "      <td>7.5</td>\n",
       "      <td>25</td>\n",
       "      <td>12</td>\n",
       "      <td>10</td>\n",
       "      <td>6</td>\n",
       "      <td>18</td>\n",
       "      <td>12</td>\n",
       "      <td>12</td>\n",
       "      <td>6</td>\n",
       "      <td>2675511.0</td>\n",
       "    </tr>\n",
       "    <tr>\n",
       "      <td>4</td>\n",
       "      <td>4</td>\n",
       "      <td>05/09/2009</td>\n",
       "      <td>Gaziantep</td>\n",
       "      <td>Other</td>\n",
       "      <td>IL</td>\n",
       "      <td>3</td>\n",
       "      <td>4.0</td>\n",
       "      <td>3.0</td>\n",
       "      <td>4.0</td>\n",
       "      <td>2</td>\n",
       "      <td>...</td>\n",
       "      <td>3.0</td>\n",
       "      <td>5</td>\n",
       "      <td>1</td>\n",
       "      <td>3</td>\n",
       "      <td>2</td>\n",
       "      <td>3</td>\n",
       "      <td>4</td>\n",
       "      <td>3</td>\n",
       "      <td>3</td>\n",
       "      <td>4316715.0</td>\n",
       "    </tr>\n",
       "    <tr>\n",
       "      <td>...</td>\n",
       "      <td>...</td>\n",
       "      <td>...</td>\n",
       "      <td>...</td>\n",
       "      <td>...</td>\n",
       "      <td>...</td>\n",
       "      <td>...</td>\n",
       "      <td>...</td>\n",
       "      <td>...</td>\n",
       "      <td>...</td>\n",
       "      <td>...</td>\n",
       "      <td>...</td>\n",
       "      <td>...</td>\n",
       "      <td>...</td>\n",
       "      <td>...</td>\n",
       "      <td>...</td>\n",
       "      <td>...</td>\n",
       "      <td>...</td>\n",
       "      <td>...</td>\n",
       "      <td>...</td>\n",
       "      <td>...</td>\n",
       "      <td>...</td>\n",
       "    </tr>\n",
       "    <tr>\n",
       "      <td>132</td>\n",
       "      <td>132</td>\n",
       "      <td>06/25/2008</td>\n",
       "      <td>Trabzon</td>\n",
       "      <td>Other</td>\n",
       "      <td>FC</td>\n",
       "      <td>2</td>\n",
       "      <td>3.0</td>\n",
       "      <td>3.0</td>\n",
       "      <td>5.0</td>\n",
       "      <td>4</td>\n",
       "      <td>...</td>\n",
       "      <td>3.0</td>\n",
       "      <td>0</td>\n",
       "      <td>0</td>\n",
       "      <td>0</td>\n",
       "      <td>0</td>\n",
       "      <td>0</td>\n",
       "      <td>0</td>\n",
       "      <td>0</td>\n",
       "      <td>0</td>\n",
       "      <td>5787594.0</td>\n",
       "    </tr>\n",
       "    <tr>\n",
       "      <td>133</td>\n",
       "      <td>133</td>\n",
       "      <td>10/12/2006</td>\n",
       "      <td>İzmir</td>\n",
       "      <td>Big Cities</td>\n",
       "      <td>FC</td>\n",
       "      <td>4</td>\n",
       "      <td>5.0</td>\n",
       "      <td>4.0</td>\n",
       "      <td>4.0</td>\n",
       "      <td>2</td>\n",
       "      <td>...</td>\n",
       "      <td>3.0</td>\n",
       "      <td>0</td>\n",
       "      <td>0</td>\n",
       "      <td>0</td>\n",
       "      <td>0</td>\n",
       "      <td>0</td>\n",
       "      <td>0</td>\n",
       "      <td>0</td>\n",
       "      <td>0</td>\n",
       "      <td>9262754.0</td>\n",
       "    </tr>\n",
       "    <tr>\n",
       "      <td>134</td>\n",
       "      <td>134</td>\n",
       "      <td>07/08/2006</td>\n",
       "      <td>Kayseri</td>\n",
       "      <td>Other</td>\n",
       "      <td>FC</td>\n",
       "      <td>3</td>\n",
       "      <td>4.0</td>\n",
       "      <td>4.0</td>\n",
       "      <td>4.0</td>\n",
       "      <td>2</td>\n",
       "      <td>...</td>\n",
       "      <td>3.0</td>\n",
       "      <td>0</td>\n",
       "      <td>0</td>\n",
       "      <td>0</td>\n",
       "      <td>0</td>\n",
       "      <td>0</td>\n",
       "      <td>0</td>\n",
       "      <td>0</td>\n",
       "      <td>0</td>\n",
       "      <td>2544857.0</td>\n",
       "    </tr>\n",
       "    <tr>\n",
       "      <td>135</td>\n",
       "      <td>135</td>\n",
       "      <td>10/29/2010</td>\n",
       "      <td>İstanbul</td>\n",
       "      <td>Big Cities</td>\n",
       "      <td>FC</td>\n",
       "      <td>4</td>\n",
       "      <td>5.0</td>\n",
       "      <td>4.0</td>\n",
       "      <td>5.0</td>\n",
       "      <td>2</td>\n",
       "      <td>...</td>\n",
       "      <td>3.0</td>\n",
       "      <td>0</td>\n",
       "      <td>0</td>\n",
       "      <td>0</td>\n",
       "      <td>0</td>\n",
       "      <td>0</td>\n",
       "      <td>0</td>\n",
       "      <td>0</td>\n",
       "      <td>0</td>\n",
       "      <td>7217634.0</td>\n",
       "    </tr>\n",
       "    <tr>\n",
       "      <td>136</td>\n",
       "      <td>136</td>\n",
       "      <td>09/01/2009</td>\n",
       "      <td>İstanbul</td>\n",
       "      <td>Big Cities</td>\n",
       "      <td>FC</td>\n",
       "      <td>4</td>\n",
       "      <td>5.0</td>\n",
       "      <td>3.0</td>\n",
       "      <td>5.0</td>\n",
       "      <td>2</td>\n",
       "      <td>...</td>\n",
       "      <td>3.0</td>\n",
       "      <td>0</td>\n",
       "      <td>0</td>\n",
       "      <td>0</td>\n",
       "      <td>0</td>\n",
       "      <td>0</td>\n",
       "      <td>0</td>\n",
       "      <td>0</td>\n",
       "      <td>0</td>\n",
       "      <td>6363241.0</td>\n",
       "    </tr>\n",
       "  </tbody>\n",
       "</table>\n",
       "<p>137 rows × 43 columns</p>\n",
       "</div>"
      ],
      "text/plain": [
       "      Id   Open Date        City  City Group Type  P1   P2   P3   P4  P5  ...  \\\n",
       "0      0  07/17/1999    İstanbul  Big Cities   IL   4  5.0  4.0  4.0   2  ...   \n",
       "1      1  02/14/2008      Ankara  Big Cities   FC   4  5.0  4.0  4.0   1  ...   \n",
       "2      2  03/09/2013  Diyarbakır       Other   IL   2  4.0  2.0  5.0   2  ...   \n",
       "3      3  02/02/2012       Tokat       Other   IL   6  4.5  6.0  6.0   4  ...   \n",
       "4      4  05/09/2009   Gaziantep       Other   IL   3  4.0  3.0  4.0   2  ...   \n",
       "..   ...         ...         ...         ...  ...  ..  ...  ...  ...  ..  ...   \n",
       "132  132  06/25/2008     Trabzon       Other   FC   2  3.0  3.0  5.0   4  ...   \n",
       "133  133  10/12/2006       İzmir  Big Cities   FC   4  5.0  4.0  4.0   2  ...   \n",
       "134  134  07/08/2006     Kayseri       Other   FC   3  4.0  4.0  4.0   2  ...   \n",
       "135  135  10/29/2010    İstanbul  Big Cities   FC   4  5.0  4.0  5.0   2  ...   \n",
       "136  136  09/01/2009    İstanbul  Big Cities   FC   4  5.0  3.0  5.0   2  ...   \n",
       "\n",
       "     P29  P30  P31  P32  P33  P34  P35  P36  P37    revenue  \n",
       "0    3.0    5    3    4    5    5    4    3    4  5653753.0  \n",
       "1    3.0    0    0    0    0    0    0    0    0  6923131.0  \n",
       "2    3.0    0    0    0    0    0    0    0    0  2055379.0  \n",
       "3    7.5   25   12   10    6   18   12   12    6  2675511.0  \n",
       "4    3.0    5    1    3    2    3    4    3    3  4316715.0  \n",
       "..   ...  ...  ...  ...  ...  ...  ...  ...  ...        ...  \n",
       "132  3.0    0    0    0    0    0    0    0    0  5787594.0  \n",
       "133  3.0    0    0    0    0    0    0    0    0  9262754.0  \n",
       "134  3.0    0    0    0    0    0    0    0    0  2544857.0  \n",
       "135  3.0    0    0    0    0    0    0    0    0  7217634.0  \n",
       "136  3.0    0    0    0    0    0    0    0    0  6363241.0  \n",
       "\n",
       "[137 rows x 43 columns]"
      ]
     },
     "execution_count": 16,
     "metadata": {},
     "output_type": "execute_result"
    }
   ],
   "source": [
    "url_train = 'https://raw.githubusercontent.com/rohan-kapadnis/Advances-in-Data-Sciences-and-Architecture/master/Assignment%202%20-%20Kaggle%20Competition/dataset/train.csv'\n",
    "url_test = 'https://raw.githubusercontent.com/rohan-kapadnis/Advances-in-Data-Sciences-and-Architecture/master/Assignment%202%20-%20Kaggle%20Competition/dataset/test.csv'\n",
    "test = pd.read_csv(url_test)\n",
    "raw_df = pd.read_csv(url_train)\n",
    "raw_df"
   ]
  },
  {
   "cell_type": "markdown",
   "metadata": {
    "id": "QKING6TIf-ff"
   },
   "source": [
    "## 1. Exploratory Data Analysis"
   ]
  },
  {
   "cell_type": "markdown",
   "metadata": {
    "id": "tLV_PR4kLQFt"
   },
   "source": [
    "## Dimensions of the Data"
   ]
  },
  {
   "cell_type": "code",
   "execution_count": 17,
   "metadata": {
    "colab": {
     "base_uri": "https://localhost:8080/",
     "height": 51
    },
    "id": "8tMFYE4q-AdT",
    "outputId": "e55fa30b-7c98-4c4c-c82e-4435be825ceb"
   },
   "outputs": [
    {
     "name": "stdout",
     "output_type": "stream",
     "text": [
      "Shape of training data: (137, 43)\n",
      "Shape of test dataset: (100000, 42)\n"
     ]
    }
   ],
   "source": [
    "print(f\"Shape of training data: {raw_df.shape}\\nShape of test dataset: {test.shape}\")"
   ]
  },
  {
   "cell_type": "markdown",
   "metadata": {
    "id": "GKBUCqiELZ58"
   },
   "source": [
    "## Features of the dataset"
   ]
  },
  {
   "cell_type": "code",
   "execution_count": 18,
   "metadata": {
    "colab": {
     "base_uri": "https://localhost:8080/",
     "height": 119
    },
    "id": "xpOfvK4ELdLV",
    "outputId": "610fec61-e796-4a06-b3eb-34502f270e2f"
   },
   "outputs": [
    {
     "data": {
      "text/plain": [
       "Index(['Id', 'Open Date', 'City', 'City Group', 'Type', 'P1', 'P2', 'P3', 'P4',\n",
       "       'P5', 'P6', 'P7', 'P8', 'P9', 'P10', 'P11', 'P12', 'P13', 'P14', 'P15',\n",
       "       'P16', 'P17', 'P18', 'P19', 'P20', 'P21', 'P22', 'P23', 'P24', 'P25',\n",
       "       'P26', 'P27', 'P28', 'P29', 'P30', 'P31', 'P32', 'P33', 'P34', 'P35',\n",
       "       'P36', 'P37', 'revenue'],\n",
       "      dtype='object')"
      ]
     },
     "execution_count": 18,
     "metadata": {},
     "output_type": "execute_result"
    }
   ],
   "source": [
    "raw_df.columns"
   ]
  },
  {
   "cell_type": "code",
   "execution_count": 19,
   "metadata": {
    "colab": {
     "base_uri": "https://localhost:8080/",
     "height": 867
    },
    "id": "JPEPWah_d-9c",
    "outputId": "4c6225ca-3291-4d93-c87d-28c0f65e45cd"
   },
   "outputs": [
    {
     "name": "stdout",
     "output_type": "stream",
     "text": [
      "<class 'pandas.core.frame.DataFrame'>\n",
      "RangeIndex: 137 entries, 0 to 136\n",
      "Data columns (total 43 columns):\n",
      "Id            137 non-null int64\n",
      "Open Date     137 non-null object\n",
      "City          137 non-null object\n",
      "City Group    137 non-null object\n",
      "Type          137 non-null object\n",
      "P1            137 non-null int64\n",
      "P2            137 non-null float64\n",
      "P3            137 non-null float64\n",
      "P4            137 non-null float64\n",
      "P5            137 non-null int64\n",
      "P6            137 non-null int64\n",
      "P7            137 non-null int64\n",
      "P8            137 non-null int64\n",
      "P9            137 non-null int64\n",
      "P10           137 non-null int64\n",
      "P11           137 non-null int64\n",
      "P12           137 non-null int64\n",
      "P13           137 non-null float64\n",
      "P14           137 non-null int64\n",
      "P15           137 non-null int64\n",
      "P16           137 non-null int64\n",
      "P17           137 non-null int64\n",
      "P18           137 non-null int64\n",
      "P19           137 non-null int64\n",
      "P20           137 non-null int64\n",
      "P21           137 non-null int64\n",
      "P22           137 non-null int64\n",
      "P23           137 non-null int64\n",
      "P24           137 non-null int64\n",
      "P25           137 non-null int64\n",
      "P26           137 non-null float64\n",
      "P27           137 non-null float64\n",
      "P28           137 non-null float64\n",
      "P29           137 non-null float64\n",
      "P30           137 non-null int64\n",
      "P31           137 non-null int64\n",
      "P32           137 non-null int64\n",
      "P33           137 non-null int64\n",
      "P34           137 non-null int64\n",
      "P35           137 non-null int64\n",
      "P36           137 non-null int64\n",
      "P37           137 non-null int64\n",
      "revenue       137 non-null float64\n",
      "dtypes: float64(9), int64(30), object(4)\n",
      "memory usage: 46.1+ KB\n"
     ]
    }
   ],
   "source": [
    "raw_df.info()"
   ]
  },
  {
   "cell_type": "markdown",
   "metadata": {
    "id": "82W2UHU-eO9S"
   },
   "source": [
    "> As we can see, \"Open Date\", \"City\", \"Group\", \"Type\" are all object type. "
   ]
  },
  {
   "cell_type": "markdown",
   "metadata": {
    "id": "Vz3X4dCuLDuj"
   },
   "source": [
    "## Check presence of any null values "
   ]
  },
  {
   "cell_type": "code",
   "execution_count": 20,
   "metadata": {
    "colab": {
     "base_uri": "https://localhost:8080/",
     "height": 34
    },
    "id": "t5Ss4aQKM6Qq",
    "outputId": "05c6a22b-4b5d-45d9-b7b2-071281661a01"
   },
   "outputs": [
    {
     "data": {
      "text/plain": [
       "False"
      ]
     },
     "execution_count": 20,
     "metadata": {},
     "output_type": "execute_result"
    }
   ],
   "source": [
    "raw_df.isnull().sum().any()"
   ]
  },
  {
   "cell_type": "markdown",
   "metadata": {
    "id": "W7tJkk98LqJN"
   },
   "source": [
    "> Hence, there are no null values available"
   ]
  },
  {
   "cell_type": "markdown",
   "metadata": {
    "id": "lYJfR-zgLvmE"
   },
   "source": [
    "> I will drop the Id column as it provides no value. "
   ]
  },
  {
   "cell_type": "code",
   "execution_count": 21,
   "metadata": {
    "id": "yttSmS6QOQVV"
   },
   "outputs": [],
   "source": [
    "raw_df.drop('Id',axis=1,inplace=True)"
   ]
  },
  {
   "cell_type": "code",
   "execution_count": 22,
   "metadata": {
    "colab": {
     "base_uri": "https://localhost:8080/",
     "height": 349
    },
    "id": "sDjUwaAjMsEP",
    "outputId": "17b39dd9-6030-4e37-df81-e75c30585736"
   },
   "outputs": [
    {
     "data": {
      "image/png": "[encoded data removed]",
      "text/plain": [
       "<Figure size 432x288 with 1 Axes>"
      ]
     },
     "metadata": {},
     "output_type": "display_data"
    }
   ],
   "source": [
    "sns.distplot(raw_df['revenue'],hist=False)\n",
    "plt.title('Distribution of Target variable')\n",
    "sns.despine(); "
   ]
  },
  {
   "cell_type": "code",
   "execution_count": 23,
   "metadata": {
    "id": "Jd96IoTTQfCw"
   },
   "outputs": [],
   "source": [
    "#import statsmodels.formula.api as smf\n",
    "#results = smf.ols('revenue ~ P1',data=train).fit()\n",
    "#results.summary()"
   ]
  },
  {
   "cell_type": "markdown",
   "metadata": {
    "id": "ge1L1kuSOvdg"
   },
   "source": [
    "> I will try to remove the outliers so as to make the distribution normal "
   ]
  },
  {
   "cell_type": "code",
   "execution_count": 24,
   "metadata": {
    "id": "Q8aWFGFTOUHl"
   },
   "outputs": [],
   "source": [
    "raw_df = raw_df[raw_df['revenue']<8e+06].copy()"
   ]
  },
  {
   "cell_type": "code",
   "execution_count": 25,
   "metadata": {
    "colab": {
     "base_uri": "https://localhost:8080/",
     "height": 349
    },
    "id": "tuG86psANMf9",
    "outputId": "48c0dbe7-fc58-4b64-f59e-8aa8f1174d3c"
   },
   "outputs": [
    {
     "data": {
      "image/png": "[encoded data removed]",
      "text/plain": [
       "<Figure size 432x288 with 1 Axes>"
      ]
     },
     "metadata": {},
     "output_type": "display_data"
    }
   ],
   "source": [
    "sns.distplot(raw_df['revenue'],hist=False)\n",
    "plt.title('Distribution of Revenue variable')\n",
    "sns.despine();"
   ]
  },
  {
   "cell_type": "markdown",
   "metadata": {
    "id": "KDa02vpDPB9U"
   },
   "source": [
    "## Finding the pairwise correlation for all the numerical columns"
   ]
  },
  {
   "cell_type": "code",
   "execution_count": 26,
   "metadata": {
    "colab": {
     "base_uri": "https://localhost:8080/",
     "height": 680
    },
    "id": "TvBahIIXfTe-",
    "outputId": "40116b7d-6825-4d05-cb6c-57281b5b75a3"
   },
   "outputs": [
    {
     "data": {
      "text/plain": [
       "revenue    1.000000\n",
       "P28        0.210405\n",
       "P2         0.201090\n",
       "P23        0.190282\n",
       "P22        0.125914\n",
       "P25        0.124055\n",
       "P6         0.120781\n",
       "P17        0.116518\n",
       "P21        0.105242\n",
       "P7         0.103906\n",
       "P24        0.103867\n",
       "P19        0.103533\n",
       "P1         0.103259\n",
       "P27        0.083365\n",
       "P20        0.083143\n",
       "P37        0.071540\n",
       "P26        0.068106\n",
       "P11        0.067380\n",
       "P14        0.064443\n",
       "P15        0.057521\n",
       "P33        0.057366\n",
       "P3         0.040939\n",
       "P18        0.036850\n",
       "P4         0.034333\n",
       "P12        0.025004\n",
       "P16        0.024814\n",
       "P5         0.022639\n",
       "P29        0.021268\n",
       "P9         0.019613\n",
       "P10        0.014902\n",
       "P35        0.013754\n",
       "P31        0.013128\n",
       "P36        0.003964\n",
       "P32        0.007603\n",
       "P13        0.007647\n",
       "P8         0.007859\n",
       "P30        0.014967\n",
       "P34        0.029703\n",
       "Name: revenue, dtype: float64"
      ]
     },
     "execution_count": 26,
     "metadata": {},
     "output_type": "execute_result"
    }
   ],
   "source": [
    "abs(raw_df.corr()[\"revenue\"].sort_values(ascending = False))"
   ]
  },
  {
   "cell_type": "code",
   "execution_count": 27,
   "metadata": {
    "colab": {
     "base_uri": "https://localhost:8080/",
     "height": 438
    },
    "id": "4AdZ1G_B7Rvz",
    "outputId": "61938e7c-a2ef-45f4-a727-53255d9509f6"
   },
   "outputs": [
    {
     "data": {
      "image/png": "[encoded data removed]",
      "text/plain": [
       "<Figure size 648x360 with 2 Axes>"
      ]
     },
     "metadata": {},
     "output_type": "display_data"
    }
   ],
   "source": [
    "fig,ax = plt.subplots(1,2,figsize=(9,5))\n",
    "sns.set_style('darkgrid')\n",
    "sns.countplot(raw_df.Type,ax=ax[0],palette=['#432371',\"#FAAE7B\"])\n",
    "ax[0].set_title('Train set')\n",
    "sns.countplot(test_data.Type,ax=ax[1],palette=['#432371',\"#FAAE7B\"])\n",
    "ax[1].set_title('Test set');"
   ]
  },
  {
   "cell_type": "markdown",
   "metadata": {
    "id": "pon9JArOo6yw"
   },
   "source": [
    "MB present in Test data but not in Train data. "
   ]
  },
  {
   "cell_type": "markdown",
   "metadata": {
    "id": "03Zcom15fzKv"
   },
   "source": [
    "> Extracting month and year from the Open date column"
   ]
  },
  {
   "cell_type": "code",
   "execution_count": 28,
   "metadata": {
    "id": "CpIUo-wM7Yel"
   },
   "outputs": [
    {
     "name": "stderr",
     "output_type": "stream",
     "text": [
      "/opt/anaconda3/lib/python3.7/site-packages/ipykernel_launcher.py:2: FutureWarning: Sorting because non-concatenation axis is not aligned. A future version\n",
      "of pandas will change to not sort by default.\n",
      "\n",
      "To accept the future behavior, pass 'sort=False'.\n",
      "\n",
      "To retain the current behavior and silence the warning, pass 'sort=True'.\n",
      "\n",
      "  \n"
     ]
    }
   ],
   "source": [
    "#Create a checkpoint so that we can easily access original dataset\n",
    "df = pd.concat([raw_df,test],axis=0)\n",
    "\n",
    "\n",
    "df['Open Date'] = pd.to_datetime(df['Open Date'])\n",
    "df['launch_Month'] = [x.month for x in df['Open Date']]\n",
    "df['launch_year'] = [x.year for x in df['Open Date']]\n",
    "df.drop(['Id','Open Date'],axis=1,inplace=True)"
   ]
  },
  {
   "cell_type": "code",
   "execution_count": 29,
   "metadata": {
    "colab": {
     "base_uri": "https://localhost:8080/",
     "height": 350
    },
    "id": "exRJDbzL8JBZ",
    "outputId": "a18f944d-0f16-4ee5-fb02-4e18bd62550a"
   },
   "outputs": [
    {
     "data": {
      "image/png": "[encoded data removed]",
      "text/plain": [
       "<Figure size 432x288 with 1 Axes>"
      ]
     },
     "metadata": {},
     "output_type": "display_data"
    }
   ],
   "source": [
    "sns.countplot(df['launch_Month'], palette=['#432371',\"#FAAE7B\"])\n",
    "plt.title('Month-wise no of launches');"
   ]
  },
  {
   "cell_type": "markdown",
   "metadata": {
    "id": "-jWR2W0pgHwQ"
   },
   "source": [
    "## 2. Preprocessing "
   ]
  },
  {
   "cell_type": "code",
   "execution_count": 30,
   "metadata": {
    "colab": {
     "base_uri": "https://localhost:8080/",
     "height": 102
    },
    "id": "M_JMMoTT8lvY",
    "outputId": "1776ff15-dca3-4d01-b364-9bd9fbdb7274"
   },
   "outputs": [
    {
     "data": {
      "text/plain": [
       "FC    57088\n",
       "IL    40505\n",
       "DT     2245\n",
       "MB      290\n",
       "Name: Type, dtype: int64"
      ]
     },
     "execution_count": 30,
     "metadata": {},
     "output_type": "execute_result"
    }
   ],
   "source": [
    "df['Type'].value_counts()"
   ]
  },
  {
   "cell_type": "code",
   "execution_count": 31,
   "metadata": {
    "colab": {
     "base_uri": "https://localhost:8080/",
     "height": 102
    },
    "id": "bbc3OWHjBUoG",
    "outputId": "57b108f5-fc19-4c91-c18f-f9552b25e115"
   },
   "outputs": [
    {
     "data": {
      "text/plain": [
       "FC    57088\n",
       "IL    40505\n",
       "DT     2245\n",
       "MB      290\n",
       "Name: Type, dtype: int64"
      ]
     },
     "execution_count": 31,
     "metadata": {},
     "output_type": "execute_result"
    }
   ],
   "source": [
    "df['Type'].value_counts()\n"
   ]
  },
  {
   "cell_type": "code",
   "execution_count": 32,
   "metadata": {
    "colab": {
     "base_uri": "https://localhost:8080/",
     "height": 221
    },
    "id": "7HjyzSpgBY5v",
    "outputId": "8bbcccd4-0df9-466f-93c4-1a4d194d57e5"
   },
   "outputs": [
    {
     "data": {
      "text/plain": [
       "İstanbul     34130\n",
       "Ankara        8739\n",
       "İzmir         6472\n",
       "Antalya       5915\n",
       "Kocaeli       4365\n",
       "             ...  \n",
       "Tokat            1\n",
       "Amasya           1\n",
       "Kastamonu        1\n",
       "Karabük          1\n",
       "Osmaniye         1\n",
       "Name: City, Length: 63, dtype: int64"
      ]
     },
     "execution_count": 32,
     "metadata": {},
     "output_type": "execute_result"
    }
   ],
   "source": [
    "df['City'].value_counts()"
   ]
  },
  {
   "cell_type": "markdown",
   "metadata": {
    "id": "Ksehqghnk35p"
   },
   "source": [
    "Dropping 'City' column as 'City group' can cover this feature. Also 'City' column would have created 63 different columns"
   ]
  },
  {
   "cell_type": "code",
   "execution_count": 33,
   "metadata": {
    "id": "6tow-0-HL0sp"
   },
   "outputs": [],
   "source": [
    "df.drop('City',axis=1,inplace=True)"
   ]
  },
  {
   "cell_type": "markdown",
   "metadata": {
    "id": "usOscITUZBPH"
   },
   "source": [
    "> Converting categorical data. I am using OrdinalEncoder which encodes categorical features as an integer array."
   ]
  },
  {
   "cell_type": "code",
   "execution_count": 34,
   "metadata": {
    "id": "LQDT9xzMMOdQ"
   },
   "outputs": [],
   "source": [
    "\n",
    "df['Type'] = df['Type'].map({'FC':0,'IL':1,'DT':2,'MB':3})\n",
    "\n",
    "from sklearn.preprocessing import OrdinalEncoder\n",
    "encoder = OrdinalEncoder()\n",
    "df['City Group'] = encoder.fit_transform(np.array(df['City Group']).reshape(-1,1))\n",
    "df['City Group'] = df['City Group'].apply(int)"
   ]
  },
  {
   "cell_type": "code",
   "execution_count": 35,
   "metadata": {
    "colab": {
     "base_uri": "https://localhost:8080/",
     "height": 221
    },
    "id": "X8pDGXKBgkYb",
    "outputId": "1c9fb635-d03c-453d-def0-b98d8a446b68"
   },
   "outputs": [
    {
     "data": {
      "text/plain": [
       "<bound method Series.unique of 0        0\n",
       "1        0\n",
       "2        1\n",
       "3        1\n",
       "4        1\n",
       "        ..\n",
       "99995    1\n",
       "99996    1\n",
       "99997    0\n",
       "99998    0\n",
       "99999    0\n",
       "Name: City Group, Length: 100128, dtype: int64>"
      ]
     },
     "execution_count": 35,
     "metadata": {},
     "output_type": "execute_result"
    }
   ],
   "source": [
    "df['City Group'].unique"
   ]
  },
  {
   "cell_type": "code",
   "execution_count": 36,
   "metadata": {
    "colab": {
     "base_uri": "https://localhost:8080/",
     "height": 221
    },
    "id": "UnPuuI95_SeT",
    "outputId": "66609303-85fb-42db-d437-bf784943dc6e"
   },
   "outputs": [
    {
     "data": {
      "text/plain": [
       "<bound method IndexOpsMixin.nunique of 0        0\n",
       "1        0\n",
       "2        1\n",
       "3        1\n",
       "4        1\n",
       "        ..\n",
       "99995    1\n",
       "99996    1\n",
       "99997    0\n",
       "99998    0\n",
       "99999    0\n",
       "Name: City Group, Length: 100128, dtype: int64>"
      ]
     },
     "execution_count": 36,
     "metadata": {},
     "output_type": "execute_result"
    }
   ],
   "source": [
    "df['City Group'].nunique"
   ]
  },
  {
   "cell_type": "code",
   "execution_count": 37,
   "metadata": {
    "colab": {
     "base_uri": "https://localhost:8080/",
     "height": 255
    },
    "id": "HWERgHvaQ7k2",
    "outputId": "2f70cdc7-6ab6-47d1-8031-fb8f98fd3d6d"
   },
   "outputs": [
    {
     "data": {
      "text/plain": [
       "launch_Month\n",
       "1     4.521243e+06\n",
       "2     4.189109e+06\n",
       "3     3.477052e+06\n",
       "4     3.749950e+06\n",
       "5     3.657800e+06\n",
       "6     3.776214e+06\n",
       "7     3.458596e+06\n",
       "8     3.883020e+06\n",
       "9     4.526998e+06\n",
       "10    4.056980e+06\n",
       "11    4.403934e+06\n",
       "12    3.720047e+06\n",
       "Name: revenue, dtype: float64"
      ]
     },
     "execution_count": 37,
     "metadata": {},
     "output_type": "execute_result"
    }
   ],
   "source": [
    "df.dropna().groupby('launch_Month')['revenue'].mean()"
   ]
  },
  {
   "cell_type": "code",
   "execution_count": 38,
   "metadata": {
    "colab": {
     "base_uri": "https://localhost:8080/",
     "height": 391
    },
    "id": "2CSqrJxJ94q1",
    "outputId": "d5006f2a-649d-4bc2-978d-595b65152584"
   },
   "outputs": [
    {
     "data": {
      "text/plain": [
       "launch_year\n",
       "1995             NaN\n",
       "1996    3.903884e+06\n",
       "1997    4.286645e+06\n",
       "1998    4.251905e+06\n",
       "1999    5.246965e+06\n",
       "2000    7.495092e+06\n",
       "2001             NaN\n",
       "2002    4.991022e+06\n",
       "2003             NaN\n",
       "2004    3.482435e+06\n",
       "2005    3.298470e+06\n",
       "2006    3.360841e+06\n",
       "2007    4.317164e+06\n",
       "2008    4.588214e+06\n",
       "2009    4.094408e+06\n",
       "2010    4.383878e+06\n",
       "2011    4.147879e+06\n",
       "2012    3.540404e+06\n",
       "2013    2.532287e+06\n",
       "2014    2.464944e+06\n",
       "Name: revenue, dtype: float64"
      ]
     },
     "execution_count": 38,
     "metadata": {},
     "output_type": "execute_result"
    }
   ],
   "source": [
    "df.groupby('launch_year')['revenue'].mean()"
   ]
  },
  {
   "cell_type": "markdown",
   "metadata": {
    "id": "ijXU2box6PHF"
   },
   "source": [
    "> Creating dummy variables"
   ]
  },
  {
   "cell_type": "code",
   "execution_count": 39,
   "metadata": {
    "id": "wEPlBsHYRBpR"
   },
   "outputs": [],
   "source": [
    "\n",
    "df.launch_year = df.launch_year.astype(str)\n",
    "df.launch_Month = df.launch_Month.astype(str)\n",
    "year_dummy = pd.get_dummies(df[['launch_year','launch_Month']],drop_first=True)\n",
    "df = pd.concat([df,year_dummy],axis=1)\n",
    "df.drop(['launch_year','launch_Month'],axis=1, inplace=True)"
   ]
  },
  {
   "cell_type": "markdown",
   "metadata": {
    "id": "pwYS7Xa5Mv3v"
   },
   "source": [
    "> Splitting the data"
   ]
  },
  {
   "cell_type": "code",
   "execution_count": 40,
   "metadata": {
    "id": "CfKXwLnSRG_t"
   },
   "outputs": [],
   "source": [
    "\n",
    "processed_df = df.dropna(axis=0)\n",
    "processed_test_data = df[128:].drop('revenue',axis=1)\n"
   ]
  },
  {
   "cell_type": "code",
   "execution_count": 41,
   "metadata": {
    "colab": {
     "base_uri": "https://localhost:8080/",
     "height": 34
    },
    "id": "GYkCLaKri5M9",
    "outputId": "fa400ad4-3286-4bed-9180-41f6e09e6676"
   },
   "outputs": [
    {
     "data": {
      "text/plain": [
       "(128, 70)"
      ]
     },
     "execution_count": 41,
     "metadata": {},
     "output_type": "execute_result"
    }
   ],
   "source": [
    "processed_df.shape\n"
   ]
  },
  {
   "cell_type": "code",
   "execution_count": 42,
   "metadata": {
    "colab": {
     "base_uri": "https://localhost:8080/",
     "height": 34
    },
    "id": "fXnfX46hZuyP",
    "outputId": "05f0bda7-f98b-43c8-fd0e-495d9880848e"
   },
   "outputs": [
    {
     "data": {
      "text/plain": [
       "(100000, 69)"
      ]
     },
     "execution_count": 42,
     "metadata": {},
     "output_type": "execute_result"
    }
   ],
   "source": [
    "processed_test_data.shape"
   ]
  },
  {
   "cell_type": "code",
   "execution_count": 43,
   "metadata": {
    "colab": {
     "base_uri": "https://localhost:8080/",
     "height": 241
    },
    "id": "nT0l35XGRJwB",
    "outputId": "6ae35dc4-961f-4371-c48f-2c853516d2fb"
   },
   "outputs": [
    {
     "data": {
      "text/html": [
       "<div>\n",
       "<style scoped>\n",
       "    .dataframe tbody tr th:only-of-type {\n",
       "        vertical-align: middle;\n",
       "    }\n",
       "\n",
       "    .dataframe tbody tr th {\n",
       "        vertical-align: top;\n",
       "    }\n",
       "\n",
       "    .dataframe thead th {\n",
       "        text-align: right;\n",
       "    }\n",
       "</style>\n",
       "<table border=\"1\" class=\"dataframe\">\n",
       "  <thead>\n",
       "    <tr style=\"text-align: right;\">\n",
       "      <th></th>\n",
       "      <th>City Group</th>\n",
       "      <th>P1</th>\n",
       "      <th>P10</th>\n",
       "      <th>P11</th>\n",
       "      <th>P12</th>\n",
       "      <th>P13</th>\n",
       "      <th>P14</th>\n",
       "      <th>P15</th>\n",
       "      <th>P16</th>\n",
       "      <th>P17</th>\n",
       "      <th>...</th>\n",
       "      <th>launch_Month_11</th>\n",
       "      <th>launch_Month_12</th>\n",
       "      <th>launch_Month_2</th>\n",
       "      <th>launch_Month_3</th>\n",
       "      <th>launch_Month_4</th>\n",
       "      <th>launch_Month_5</th>\n",
       "      <th>launch_Month_6</th>\n",
       "      <th>launch_Month_7</th>\n",
       "      <th>launch_Month_8</th>\n",
       "      <th>launch_Month_9</th>\n",
       "    </tr>\n",
       "  </thead>\n",
       "  <tbody>\n",
       "    <tr>\n",
       "      <td>0</td>\n",
       "      <td>0</td>\n",
       "      <td>4</td>\n",
       "      <td>5</td>\n",
       "      <td>3</td>\n",
       "      <td>5</td>\n",
       "      <td>5.0</td>\n",
       "      <td>1</td>\n",
       "      <td>2</td>\n",
       "      <td>2</td>\n",
       "      <td>2</td>\n",
       "      <td>...</td>\n",
       "      <td>0</td>\n",
       "      <td>0</td>\n",
       "      <td>0</td>\n",
       "      <td>0</td>\n",
       "      <td>0</td>\n",
       "      <td>0</td>\n",
       "      <td>0</td>\n",
       "      <td>1</td>\n",
       "      <td>0</td>\n",
       "      <td>0</td>\n",
       "    </tr>\n",
       "    <tr>\n",
       "      <td>1</td>\n",
       "      <td>0</td>\n",
       "      <td>4</td>\n",
       "      <td>5</td>\n",
       "      <td>1</td>\n",
       "      <td>5</td>\n",
       "      <td>5.0</td>\n",
       "      <td>0</td>\n",
       "      <td>0</td>\n",
       "      <td>0</td>\n",
       "      <td>0</td>\n",
       "      <td>...</td>\n",
       "      <td>0</td>\n",
       "      <td>0</td>\n",
       "      <td>1</td>\n",
       "      <td>0</td>\n",
       "      <td>0</td>\n",
       "      <td>0</td>\n",
       "      <td>0</td>\n",
       "      <td>0</td>\n",
       "      <td>0</td>\n",
       "      <td>0</td>\n",
       "    </tr>\n",
       "    <tr>\n",
       "      <td>2</td>\n",
       "      <td>1</td>\n",
       "      <td>2</td>\n",
       "      <td>5</td>\n",
       "      <td>2</td>\n",
       "      <td>5</td>\n",
       "      <td>5.0</td>\n",
       "      <td>0</td>\n",
       "      <td>0</td>\n",
       "      <td>0</td>\n",
       "      <td>0</td>\n",
       "      <td>...</td>\n",
       "      <td>0</td>\n",
       "      <td>0</td>\n",
       "      <td>0</td>\n",
       "      <td>1</td>\n",
       "      <td>0</td>\n",
       "      <td>0</td>\n",
       "      <td>0</td>\n",
       "      <td>0</td>\n",
       "      <td>0</td>\n",
       "      <td>0</td>\n",
       "    </tr>\n",
       "    <tr>\n",
       "      <td>3</td>\n",
       "      <td>1</td>\n",
       "      <td>6</td>\n",
       "      <td>10</td>\n",
       "      <td>8</td>\n",
       "      <td>10</td>\n",
       "      <td>7.5</td>\n",
       "      <td>6</td>\n",
       "      <td>4</td>\n",
       "      <td>9</td>\n",
       "      <td>3</td>\n",
       "      <td>...</td>\n",
       "      <td>0</td>\n",
       "      <td>0</td>\n",
       "      <td>1</td>\n",
       "      <td>0</td>\n",
       "      <td>0</td>\n",
       "      <td>0</td>\n",
       "      <td>0</td>\n",
       "      <td>0</td>\n",
       "      <td>0</td>\n",
       "      <td>0</td>\n",
       "    </tr>\n",
       "    <tr>\n",
       "      <td>4</td>\n",
       "      <td>1</td>\n",
       "      <td>3</td>\n",
       "      <td>5</td>\n",
       "      <td>2</td>\n",
       "      <td>5</td>\n",
       "      <td>5.0</td>\n",
       "      <td>2</td>\n",
       "      <td>1</td>\n",
       "      <td>2</td>\n",
       "      <td>1</td>\n",
       "      <td>...</td>\n",
       "      <td>0</td>\n",
       "      <td>0</td>\n",
       "      <td>0</td>\n",
       "      <td>0</td>\n",
       "      <td>0</td>\n",
       "      <td>1</td>\n",
       "      <td>0</td>\n",
       "      <td>0</td>\n",
       "      <td>0</td>\n",
       "      <td>0</td>\n",
       "    </tr>\n",
       "  </tbody>\n",
       "</table>\n",
       "<p>5 rows × 70 columns</p>\n",
       "</div>"
      ],
      "text/plain": [
       "   City Group  P1  P10  P11  P12  P13  P14  P15  P16  P17  ...  \\\n",
       "0           0   4    5    3    5  5.0    1    2    2    2  ...   \n",
       "1           0   4    5    1    5  5.0    0    0    0    0  ...   \n",
       "2           1   2    5    2    5  5.0    0    0    0    0  ...   \n",
       "3           1   6   10    8   10  7.5    6    4    9    3  ...   \n",
       "4           1   3    5    2    5  5.0    2    1    2    1  ...   \n",
       "\n",
       "   launch_Month_11  launch_Month_12  launch_Month_2  launch_Month_3  \\\n",
       "0                0                0               0               0   \n",
       "1                0                0               1               0   \n",
       "2                0                0               0               1   \n",
       "3                0                0               1               0   \n",
       "4                0                0               0               0   \n",
       "\n",
       "   launch_Month_4  launch_Month_5  launch_Month_6  launch_Month_7  \\\n",
       "0               0               0               0               1   \n",
       "1               0               0               0               0   \n",
       "2               0               0               0               0   \n",
       "3               0               0               0               0   \n",
       "4               0               1               0               0   \n",
       "\n",
       "   launch_Month_8  launch_Month_9  \n",
       "0               0               0  \n",
       "1               0               0  \n",
       "2               0               0  \n",
       "3               0               0  \n",
       "4               0               0  \n",
       "\n",
       "[5 rows x 70 columns]"
      ]
     },
     "execution_count": 43,
     "metadata": {},
     "output_type": "execute_result"
    }
   ],
   "source": [
    "\n",
    "processed_df.head()\n"
   ]
  },
  {
   "cell_type": "code",
   "execution_count": 44,
   "metadata": {
    "id": "7FFnpDkYgc52"
   },
   "outputs": [],
   "source": [
    "#processed_df = processed_df.drop(['P27','P20', 'P37', 'P26', 'P11', 'P14', 'P15', 'P33', 'P3', 'P18', 'P4', 'P12' , 'P16', 'P5', 'P29' , 'P9', 'P10', 'P35', 'P31', 'P36', 'P32', 'P13', 'P8' ,'P30', 'P34'], axis=1)\n",
    "#processed_df = processed_df.drop(['P27','P20', 'P37', 'P26', 'P11', 'P14'],axis=1)"
   ]
  },
  {
   "cell_type": "code",
   "execution_count": 45,
   "metadata": {
    "colab": {
     "base_uri": "https://localhost:8080/",
     "height": 241
    },
    "id": "PxL-KH4_h5Vr",
    "outputId": "534f9804-3881-4cbc-8bda-3860d5b4f4d8"
   },
   "outputs": [
    {
     "data": {
      "text/html": [
       "<div>\n",
       "<style scoped>\n",
       "    .dataframe tbody tr th:only-of-type {\n",
       "        vertical-align: middle;\n",
       "    }\n",
       "\n",
       "    .dataframe tbody tr th {\n",
       "        vertical-align: top;\n",
       "    }\n",
       "\n",
       "    .dataframe thead th {\n",
       "        text-align: right;\n",
       "    }\n",
       "</style>\n",
       "<table border=\"1\" class=\"dataframe\">\n",
       "  <thead>\n",
       "    <tr style=\"text-align: right;\">\n",
       "      <th></th>\n",
       "      <th>City Group</th>\n",
       "      <th>P1</th>\n",
       "      <th>P10</th>\n",
       "      <th>P11</th>\n",
       "      <th>P12</th>\n",
       "      <th>P13</th>\n",
       "      <th>P14</th>\n",
       "      <th>P15</th>\n",
       "      <th>P16</th>\n",
       "      <th>P17</th>\n",
       "      <th>...</th>\n",
       "      <th>launch_Month_11</th>\n",
       "      <th>launch_Month_12</th>\n",
       "      <th>launch_Month_2</th>\n",
       "      <th>launch_Month_3</th>\n",
       "      <th>launch_Month_4</th>\n",
       "      <th>launch_Month_5</th>\n",
       "      <th>launch_Month_6</th>\n",
       "      <th>launch_Month_7</th>\n",
       "      <th>launch_Month_8</th>\n",
       "      <th>launch_Month_9</th>\n",
       "    </tr>\n",
       "  </thead>\n",
       "  <tbody>\n",
       "    <tr>\n",
       "      <td>0</td>\n",
       "      <td>0</td>\n",
       "      <td>4</td>\n",
       "      <td>5</td>\n",
       "      <td>3</td>\n",
       "      <td>5</td>\n",
       "      <td>5.0</td>\n",
       "      <td>1</td>\n",
       "      <td>2</td>\n",
       "      <td>2</td>\n",
       "      <td>2</td>\n",
       "      <td>...</td>\n",
       "      <td>0</td>\n",
       "      <td>0</td>\n",
       "      <td>0</td>\n",
       "      <td>0</td>\n",
       "      <td>0</td>\n",
       "      <td>0</td>\n",
       "      <td>0</td>\n",
       "      <td>1</td>\n",
       "      <td>0</td>\n",
       "      <td>0</td>\n",
       "    </tr>\n",
       "    <tr>\n",
       "      <td>1</td>\n",
       "      <td>0</td>\n",
       "      <td>4</td>\n",
       "      <td>5</td>\n",
       "      <td>1</td>\n",
       "      <td>5</td>\n",
       "      <td>5.0</td>\n",
       "      <td>0</td>\n",
       "      <td>0</td>\n",
       "      <td>0</td>\n",
       "      <td>0</td>\n",
       "      <td>...</td>\n",
       "      <td>0</td>\n",
       "      <td>0</td>\n",
       "      <td>1</td>\n",
       "      <td>0</td>\n",
       "      <td>0</td>\n",
       "      <td>0</td>\n",
       "      <td>0</td>\n",
       "      <td>0</td>\n",
       "      <td>0</td>\n",
       "      <td>0</td>\n",
       "    </tr>\n",
       "    <tr>\n",
       "      <td>2</td>\n",
       "      <td>1</td>\n",
       "      <td>2</td>\n",
       "      <td>5</td>\n",
       "      <td>2</td>\n",
       "      <td>5</td>\n",
       "      <td>5.0</td>\n",
       "      <td>0</td>\n",
       "      <td>0</td>\n",
       "      <td>0</td>\n",
       "      <td>0</td>\n",
       "      <td>...</td>\n",
       "      <td>0</td>\n",
       "      <td>0</td>\n",
       "      <td>0</td>\n",
       "      <td>1</td>\n",
       "      <td>0</td>\n",
       "      <td>0</td>\n",
       "      <td>0</td>\n",
       "      <td>0</td>\n",
       "      <td>0</td>\n",
       "      <td>0</td>\n",
       "    </tr>\n",
       "    <tr>\n",
       "      <td>3</td>\n",
       "      <td>1</td>\n",
       "      <td>6</td>\n",
       "      <td>10</td>\n",
       "      <td>8</td>\n",
       "      <td>10</td>\n",
       "      <td>7.5</td>\n",
       "      <td>6</td>\n",
       "      <td>4</td>\n",
       "      <td>9</td>\n",
       "      <td>3</td>\n",
       "      <td>...</td>\n",
       "      <td>0</td>\n",
       "      <td>0</td>\n",
       "      <td>1</td>\n",
       "      <td>0</td>\n",
       "      <td>0</td>\n",
       "      <td>0</td>\n",
       "      <td>0</td>\n",
       "      <td>0</td>\n",
       "      <td>0</td>\n",
       "      <td>0</td>\n",
       "    </tr>\n",
       "    <tr>\n",
       "      <td>4</td>\n",
       "      <td>1</td>\n",
       "      <td>3</td>\n",
       "      <td>5</td>\n",
       "      <td>2</td>\n",
       "      <td>5</td>\n",
       "      <td>5.0</td>\n",
       "      <td>2</td>\n",
       "      <td>1</td>\n",
       "      <td>2</td>\n",
       "      <td>1</td>\n",
       "      <td>...</td>\n",
       "      <td>0</td>\n",
       "      <td>0</td>\n",
       "      <td>0</td>\n",
       "      <td>0</td>\n",
       "      <td>0</td>\n",
       "      <td>1</td>\n",
       "      <td>0</td>\n",
       "      <td>0</td>\n",
       "      <td>0</td>\n",
       "      <td>0</td>\n",
       "    </tr>\n",
       "  </tbody>\n",
       "</table>\n",
       "<p>5 rows × 70 columns</p>\n",
       "</div>"
      ],
      "text/plain": [
       "   City Group  P1  P10  P11  P12  P13  P14  P15  P16  P17  ...  \\\n",
       "0           0   4    5    3    5  5.0    1    2    2    2  ...   \n",
       "1           0   4    5    1    5  5.0    0    0    0    0  ...   \n",
       "2           1   2    5    2    5  5.0    0    0    0    0  ...   \n",
       "3           1   6   10    8   10  7.5    6    4    9    3  ...   \n",
       "4           1   3    5    2    5  5.0    2    1    2    1  ...   \n",
       "\n",
       "   launch_Month_11  launch_Month_12  launch_Month_2  launch_Month_3  \\\n",
       "0                0                0               0               0   \n",
       "1                0                0               1               0   \n",
       "2                0                0               0               1   \n",
       "3                0                0               1               0   \n",
       "4                0                0               0               0   \n",
       "\n",
       "   launch_Month_4  launch_Month_5  launch_Month_6  launch_Month_7  \\\n",
       "0               0               0               0               1   \n",
       "1               0               0               0               0   \n",
       "2               0               0               0               0   \n",
       "3               0               0               0               0   \n",
       "4               0               1               0               0   \n",
       "\n",
       "   launch_Month_8  launch_Month_9  \n",
       "0               0               0  \n",
       "1               0               0  \n",
       "2               0               0  \n",
       "3               0               0  \n",
       "4               0               0  \n",
       "\n",
       "[5 rows x 70 columns]"
      ]
     },
     "execution_count": 45,
     "metadata": {},
     "output_type": "execute_result"
    }
   ],
   "source": [
    "processed_df.head()"
   ]
  },
  {
   "cell_type": "code",
   "execution_count": 46,
   "metadata": {
    "colab": {
     "base_uri": "https://localhost:8080/",
     "height": 221
    },
    "id": "DbYNLo5tb3tz",
    "outputId": "5087b62c-0875-4f11-8b2f-688b124e92ec"
   },
   "outputs": [
    {
     "data": {
      "text/plain": [
       "launch_year_2013    0.305885\n",
       "City Group          0.127036\n",
       "launch_year_2014    0.125475\n",
       "launch_year_2012    0.109203\n",
       "launch_Month_3      0.093526\n",
       "                      ...   \n",
       "launch_year_2000    0.209157\n",
       "P28                 0.210405\n",
       "revenue             1.000000\n",
       "launch_year_2001         NaN\n",
       "launch_year_2003         NaN\n",
       "Name: revenue, Length: 70, dtype: float64"
      ]
     },
     "execution_count": 46,
     "metadata": {},
     "output_type": "execute_result"
    }
   ],
   "source": [
    "abs(processed_df.corr()[\"revenue\"].sort_values(ascending = True))"
   ]
  },
  {
   "cell_type": "code",
   "execution_count": 47,
   "metadata": {
    "id": "x5FXpNRIkHdX"
   },
   "outputs": [],
   "source": [
    "from sklearn.model_selection import train_test_split\n",
    "X=processed_df.drop('revenue',axis=1)\n",
    "y=df['revenue'][:128]\n",
    "X_train, X_test, y_train, y_test = train_test_split(X,y,test_size=0.20,random_state=12345)"
   ]
  },
  {
   "cell_type": "code",
   "execution_count": 48,
   "metadata": {
    "colab": {
     "base_uri": "https://localhost:8080/",
     "height": 1000
    },
    "id": "535B3aXPM53l",
    "outputId": "c97bb675-5f84-4134-de90-71d7455ecee7"
   },
   "outputs": [
    {
     "data": {
      "text/html": [
       "<table class=\"simpletable\">\n",
       "<caption>OLS Regression Results</caption>\n",
       "<tr>\n",
       "  <th>Dep. Variable:</th>         <td>revenue</td>     <th>  R-squared:         </th> <td>   0.747</td>\n",
       "</tr>\n",
       "<tr>\n",
       "  <th>Model:</th>                   <td>OLS</td>       <th>  Adj. R-squared:    </th> <td>   0.270</td>\n",
       "</tr>\n",
       "<tr>\n",
       "  <th>Method:</th>             <td>Least Squares</td>  <th>  F-statistic:       </th> <td>   1.566</td>\n",
       "</tr>\n",
       "<tr>\n",
       "  <th>Date:</th>             <td>Fri, 23 Oct 2020</td> <th>  Prob (F-statistic):</th>  <td>0.0749</td> \n",
       "</tr>\n",
       "<tr>\n",
       "  <th>Time:</th>                 <td>22:15:59</td>     <th>  Log-Likelihood:    </th> <td> -1523.5</td>\n",
       "</tr>\n",
       "<tr>\n",
       "  <th>No. Observations:</th>      <td>   102</td>      <th>  AIC:               </th> <td>   3181.</td>\n",
       "</tr>\n",
       "<tr>\n",
       "  <th>Df Residuals:</th>          <td>    35</td>      <th>  BIC:               </th> <td>   3357.</td>\n",
       "</tr>\n",
       "<tr>\n",
       "  <th>Df Model:</th>              <td>    66</td>      <th>                     </th>     <td> </td>   \n",
       "</tr>\n",
       "<tr>\n",
       "  <th>Covariance Type:</th>      <td>nonrobust</td>    <th>                     </th>     <td> </td>   \n",
       "</tr>\n",
       "</table>\n",
       "<table class=\"simpletable\">\n",
       "<tr>\n",
       "          <td></td>            <th>coef</th>     <th>std err</th>      <th>t</th>      <th>P>|t|</th>  <th>[0.025</th>    <th>0.975]</th>  \n",
       "</tr>\n",
       "<tr>\n",
       "  <th>City Group</th>       <td>-1.567e+05</td> <td> 5.42e+05</td> <td>   -0.289</td> <td> 0.774</td> <td>-1.26e+06</td> <td> 9.44e+05</td>\n",
       "</tr>\n",
       "<tr>\n",
       "  <th>P1</th>               <td> 1.672e+05</td> <td> 2.86e+05</td> <td>    0.586</td> <td> 0.562</td> <td>-4.13e+05</td> <td> 7.47e+05</td>\n",
       "</tr>\n",
       "<tr>\n",
       "  <th>P10</th>              <td>-8.166e+05</td> <td> 1.35e+06</td> <td>   -0.607</td> <td> 0.548</td> <td>-3.55e+06</td> <td> 1.92e+06</td>\n",
       "</tr>\n",
       "<tr>\n",
       "  <th>P11</th>              <td>-2.011e+05</td> <td> 2.55e+05</td> <td>   -0.788</td> <td> 0.436</td> <td>-7.19e+05</td> <td> 3.17e+05</td>\n",
       "</tr>\n",
       "<tr>\n",
       "  <th>P12</th>              <td>-4.117e+05</td> <td> 6.42e+05</td> <td>   -0.641</td> <td> 0.526</td> <td>-1.72e+06</td> <td> 8.92e+05</td>\n",
       "</tr>\n",
       "<tr>\n",
       "  <th>P13</th>              <td> 1.564e+05</td> <td> 1.19e+06</td> <td>    0.132</td> <td> 0.896</td> <td>-2.26e+06</td> <td> 2.57e+06</td>\n",
       "</tr>\n",
       "<tr>\n",
       "  <th>P14</th>              <td>-2.727e+05</td> <td> 3.84e+05</td> <td>   -0.710</td> <td> 0.482</td> <td>-1.05e+06</td> <td> 5.07e+05</td>\n",
       "</tr>\n",
       "<tr>\n",
       "  <th>P15</th>              <td>-4.904e+05</td> <td> 4.16e+05</td> <td>   -1.180</td> <td> 0.246</td> <td>-1.33e+06</td> <td> 3.53e+05</td>\n",
       "</tr>\n",
       "<tr>\n",
       "  <th>P16</th>              <td> -1.68e+05</td> <td> 3.86e+05</td> <td>   -0.435</td> <td> 0.666</td> <td>-9.52e+05</td> <td> 6.16e+05</td>\n",
       "</tr>\n",
       "<tr>\n",
       "  <th>P17</th>              <td> 3.234e+05</td> <td>  3.7e+05</td> <td>    0.873</td> <td> 0.389</td> <td>-4.29e+05</td> <td> 1.08e+06</td>\n",
       "</tr>\n",
       "<tr>\n",
       "  <th>P18</th>              <td>-8.559e+04</td> <td> 3.73e+05</td> <td>   -0.230</td> <td> 0.820</td> <td>-8.42e+05</td> <td> 6.71e+05</td>\n",
       "</tr>\n",
       "<tr>\n",
       "  <th>P19</th>              <td>-9.046e+04</td> <td> 1.04e+05</td> <td>   -0.866</td> <td> 0.392</td> <td>-3.02e+05</td> <td> 1.21e+05</td>\n",
       "</tr>\n",
       "<tr>\n",
       "  <th>P2</th>               <td> 1.965e+05</td> <td> 3.27e+05</td> <td>    0.601</td> <td> 0.552</td> <td>-4.67e+05</td> <td>  8.6e+05</td>\n",
       "</tr>\n",
       "<tr>\n",
       "  <th>P20</th>              <td>-1.568e+05</td> <td> 1.84e+05</td> <td>   -0.852</td> <td> 0.400</td> <td>-5.31e+05</td> <td> 2.17e+05</td>\n",
       "</tr>\n",
       "<tr>\n",
       "  <th>P21</th>              <td>  -7.8e+04</td> <td> 2.36e+05</td> <td>   -0.331</td> <td> 0.743</td> <td>-5.57e+05</td> <td> 4.01e+05</td>\n",
       "</tr>\n",
       "<tr>\n",
       "  <th>P22</th>              <td>-1.206e+05</td> <td> 2.63e+05</td> <td>   -0.459</td> <td> 0.649</td> <td>-6.54e+05</td> <td> 4.13e+05</td>\n",
       "</tr>\n",
       "<tr>\n",
       "  <th>P23</th>              <td> 3.134e+05</td> <td>  1.4e+05</td> <td>    2.246</td> <td> 0.031</td> <td> 3.02e+04</td> <td> 5.97e+05</td>\n",
       "</tr>\n",
       "<tr>\n",
       "  <th>P24</th>              <td> 1.621e+05</td> <td> 6.18e+05</td> <td>    0.262</td> <td> 0.795</td> <td>-1.09e+06</td> <td> 1.42e+06</td>\n",
       "</tr>\n",
       "<tr>\n",
       "  <th>P25</th>              <td> 2.711e+05</td> <td> 5.57e+05</td> <td>    0.487</td> <td> 0.629</td> <td>-8.59e+05</td> <td>  1.4e+06</td>\n",
       "</tr>\n",
       "<tr>\n",
       "  <th>P26</th>              <td>-3.576e+05</td> <td> 7.18e+05</td> <td>   -0.498</td> <td> 0.622</td> <td>-1.81e+06</td> <td>  1.1e+06</td>\n",
       "</tr>\n",
       "<tr>\n",
       "  <th>P27</th>              <td>-2.787e+04</td> <td> 2.26e+05</td> <td>   -0.123</td> <td> 0.903</td> <td>-4.87e+05</td> <td> 4.31e+05</td>\n",
       "</tr>\n",
       "<tr>\n",
       "  <th>P28</th>              <td> 2.774e+05</td> <td> 2.56e+05</td> <td>    1.085</td> <td> 0.285</td> <td>-2.41e+05</td> <td> 7.96e+05</td>\n",
       "</tr>\n",
       "<tr>\n",
       "  <th>P29</th>              <td> 1.968e+05</td> <td> 2.82e+05</td> <td>    0.697</td> <td> 0.490</td> <td>-3.76e+05</td> <td>  7.7e+05</td>\n",
       "</tr>\n",
       "<tr>\n",
       "  <th>P3</th>               <td> 2.761e+05</td> <td> 3.26e+05</td> <td>    0.847</td> <td> 0.403</td> <td>-3.86e+05</td> <td> 9.38e+05</td>\n",
       "</tr>\n",
       "<tr>\n",
       "  <th>P30</th>              <td>-3.382e+05</td> <td> 2.18e+05</td> <td>   -1.552</td> <td> 0.130</td> <td> -7.8e+05</td> <td> 1.04e+05</td>\n",
       "</tr>\n",
       "<tr>\n",
       "  <th>P31</th>              <td>  4.15e+05</td> <td> 3.16e+05</td> <td>    1.313</td> <td> 0.198</td> <td>-2.27e+05</td> <td> 1.06e+06</td>\n",
       "</tr>\n",
       "<tr>\n",
       "  <th>P32</th>              <td>-6.307e+05</td> <td> 2.88e+05</td> <td>   -2.191</td> <td> 0.035</td> <td>-1.22e+06</td> <td>-4.63e+04</td>\n",
       "</tr>\n",
       "<tr>\n",
       "  <th>P33</th>              <td> -8.28e+04</td> <td> 4.26e+05</td> <td>   -0.194</td> <td> 0.847</td> <td>-9.47e+05</td> <td> 7.82e+05</td>\n",
       "</tr>\n",
       "<tr>\n",
       "  <th>P34</th>              <td>-1.442e+05</td> <td> 3.38e+05</td> <td>   -0.426</td> <td> 0.673</td> <td>-8.31e+05</td> <td> 5.43e+05</td>\n",
       "</tr>\n",
       "<tr>\n",
       "  <th>P35</th>              <td> 5.635e+05</td> <td> 3.81e+05</td> <td>    1.477</td> <td> 0.149</td> <td>-2.11e+05</td> <td> 1.34e+06</td>\n",
       "</tr>\n",
       "<tr>\n",
       "  <th>P36</th>              <td> 9.004e+05</td> <td> 6.43e+05</td> <td>    1.401</td> <td> 0.170</td> <td>-4.04e+05</td> <td> 2.21e+06</td>\n",
       "</tr>\n",
       "<tr>\n",
       "  <th>P37</th>              <td> 1.912e+05</td> <td> 3.14e+05</td> <td>    0.609</td> <td> 0.546</td> <td>-4.46e+05</td> <td> 8.28e+05</td>\n",
       "</tr>\n",
       "<tr>\n",
       "  <th>P4</th>               <td> 7680.2697</td> <td> 4.43e+05</td> <td>    0.017</td> <td> 0.986</td> <td>-8.92e+05</td> <td> 9.08e+05</td>\n",
       "</tr>\n",
       "<tr>\n",
       "  <th>P5</th>               <td> 3.051e+05</td> <td> 3.09e+05</td> <td>    0.989</td> <td> 0.330</td> <td>-3.21e+05</td> <td> 9.32e+05</td>\n",
       "</tr>\n",
       "<tr>\n",
       "  <th>P6</th>               <td> 2.945e+04</td> <td> 2.13e+05</td> <td>    0.138</td> <td> 0.891</td> <td>-4.03e+05</td> <td> 4.62e+05</td>\n",
       "</tr>\n",
       "<tr>\n",
       "  <th>P7</th>               <td> 5.363e+04</td> <td> 2.11e+05</td> <td>    0.255</td> <td> 0.801</td> <td>-3.74e+05</td> <td> 4.81e+05</td>\n",
       "</tr>\n",
       "<tr>\n",
       "  <th>P8</th>               <td>-4.517e+05</td> <td> 5.52e+05</td> <td>   -0.818</td> <td> 0.419</td> <td>-1.57e+06</td> <td> 6.69e+05</td>\n",
       "</tr>\n",
       "<tr>\n",
       "  <th>P9</th>               <td> 8.282e+05</td> <td> 9.68e+05</td> <td>    0.855</td> <td> 0.398</td> <td>-1.14e+06</td> <td> 2.79e+06</td>\n",
       "</tr>\n",
       "<tr>\n",
       "  <th>Type</th>             <td>-3.358e+05</td> <td> 6.45e+05</td> <td>   -0.520</td> <td> 0.606</td> <td>-1.65e+06</td> <td> 9.74e+05</td>\n",
       "</tr>\n",
       "<tr>\n",
       "  <th>launch_year_1996</th> <td>  5.78e+06</td> <td> 4.08e+06</td> <td>    1.417</td> <td> 0.165</td> <td> -2.5e+06</td> <td> 1.41e+07</td>\n",
       "</tr>\n",
       "<tr>\n",
       "  <th>launch_year_1997</th> <td> 1.586e+07</td> <td> 7.72e+06</td> <td>    2.055</td> <td> 0.047</td> <td> 1.92e+05</td> <td> 3.15e+07</td>\n",
       "</tr>\n",
       "<tr>\n",
       "  <th>launch_year_1998</th> <td> 4.642e+06</td> <td>  3.4e+06</td> <td>    1.365</td> <td> 0.181</td> <td>-2.26e+06</td> <td> 1.15e+07</td>\n",
       "</tr>\n",
       "<tr>\n",
       "  <th>launch_year_1999</th> <td> 5.427e+06</td> <td> 3.61e+06</td> <td>    1.505</td> <td> 0.141</td> <td>-1.89e+06</td> <td> 1.27e+07</td>\n",
       "</tr>\n",
       "<tr>\n",
       "  <th>launch_year_2000</th> <td> 6.277e+06</td> <td> 3.51e+06</td> <td>    1.791</td> <td> 0.082</td> <td>-8.39e+05</td> <td> 1.34e+07</td>\n",
       "</tr>\n",
       "<tr>\n",
       "  <th>launch_year_2001</th> <td> 9.909e-09</td> <td> 4.62e-09</td> <td>    2.147</td> <td> 0.039</td> <td> 5.38e-10</td> <td> 1.93e-08</td>\n",
       "</tr>\n",
       "<tr>\n",
       "  <th>launch_year_2002</th> <td> 1.542e+06</td> <td> 3.66e+06</td> <td>    0.421</td> <td> 0.676</td> <td>-5.89e+06</td> <td> 8.97e+06</td>\n",
       "</tr>\n",
       "<tr>\n",
       "  <th>launch_year_2003</th> <td>-5.721e-08</td> <td> 2.84e-08</td> <td>   -2.017</td> <td> 0.051</td> <td>-1.15e-07</td> <td> 3.69e-10</td>\n",
       "</tr>\n",
       "<tr>\n",
       "  <th>launch_year_2004</th> <td> 1.668e+06</td> <td> 3.35e+06</td> <td>    0.498</td> <td> 0.621</td> <td>-5.13e+06</td> <td> 8.46e+06</td>\n",
       "</tr>\n",
       "<tr>\n",
       "  <th>launch_year_2005</th> <td> 5.331e+06</td> <td> 3.47e+06</td> <td>    1.538</td> <td> 0.133</td> <td> -1.7e+06</td> <td> 1.24e+07</td>\n",
       "</tr>\n",
       "<tr>\n",
       "  <th>launch_year_2006</th> <td> 3.122e+06</td> <td> 3.52e+06</td> <td>    0.887</td> <td> 0.381</td> <td>-4.02e+06</td> <td> 1.03e+07</td>\n",
       "</tr>\n",
       "<tr>\n",
       "  <th>launch_year_2007</th> <td> 4.265e+06</td> <td> 3.45e+06</td> <td>    1.238</td> <td> 0.224</td> <td>-2.73e+06</td> <td> 1.13e+07</td>\n",
       "</tr>\n",
       "<tr>\n",
       "  <th>launch_year_2008</th> <td> 5.368e+06</td> <td> 3.24e+06</td> <td>    1.657</td> <td> 0.106</td> <td>-1.21e+06</td> <td> 1.19e+07</td>\n",
       "</tr>\n",
       "<tr>\n",
       "  <th>launch_year_2009</th> <td> 4.146e+06</td> <td> 3.22e+06</td> <td>    1.288</td> <td> 0.206</td> <td>-2.39e+06</td> <td> 1.07e+07</td>\n",
       "</tr>\n",
       "<tr>\n",
       "  <th>launch_year_2010</th> <td> 3.683e+06</td> <td> 3.35e+06</td> <td>    1.099</td> <td> 0.279</td> <td>-3.12e+06</td> <td> 1.05e+07</td>\n",
       "</tr>\n",
       "<tr>\n",
       "  <th>launch_year_2011</th> <td> 4.049e+06</td> <td> 3.31e+06</td> <td>    1.223</td> <td> 0.229</td> <td>-2.67e+06</td> <td> 1.08e+07</td>\n",
       "</tr>\n",
       "<tr>\n",
       "  <th>launch_year_2012</th> <td> 4.175e+06</td> <td> 3.39e+06</td> <td>    1.232</td> <td> 0.226</td> <td> -2.7e+06</td> <td> 1.11e+07</td>\n",
       "</tr>\n",
       "<tr>\n",
       "  <th>launch_year_2013</th> <td>  2.89e+06</td> <td> 3.33e+06</td> <td>    0.867</td> <td> 0.392</td> <td>-3.88e+06</td> <td> 9.66e+06</td>\n",
       "</tr>\n",
       "<tr>\n",
       "  <th>launch_year_2014</th> <td> 3.354e+06</td> <td> 3.68e+06</td> <td>    0.913</td> <td> 0.368</td> <td>-4.11e+06</td> <td> 1.08e+07</td>\n",
       "</tr>\n",
       "<tr>\n",
       "  <th>launch_Month_10</th>  <td> -6.91e+04</td> <td> 9.85e+05</td> <td>   -0.070</td> <td> 0.944</td> <td>-2.07e+06</td> <td> 1.93e+06</td>\n",
       "</tr>\n",
       "<tr>\n",
       "  <th>launch_Month_11</th>  <td> 1.042e+06</td> <td> 1.01e+06</td> <td>    1.032</td> <td> 0.309</td> <td>-1.01e+06</td> <td> 3.09e+06</td>\n",
       "</tr>\n",
       "<tr>\n",
       "  <th>launch_Month_12</th>  <td>-6.999e+05</td> <td> 1.04e+06</td> <td>   -0.671</td> <td> 0.507</td> <td>-2.82e+06</td> <td> 1.42e+06</td>\n",
       "</tr>\n",
       "<tr>\n",
       "  <th>launch_Month_2</th>   <td> 1.588e+05</td> <td> 1.02e+06</td> <td>    0.156</td> <td> 0.877</td> <td>-1.91e+06</td> <td> 2.23e+06</td>\n",
       "</tr>\n",
       "<tr>\n",
       "  <th>launch_Month_3</th>   <td> -6.18e+05</td> <td> 1.02e+06</td> <td>   -0.604</td> <td> 0.550</td> <td> -2.7e+06</td> <td> 1.46e+06</td>\n",
       "</tr>\n",
       "<tr>\n",
       "  <th>launch_Month_4</th>   <td>-7.533e+05</td> <td> 1.41e+06</td> <td>   -0.536</td> <td> 0.595</td> <td>-3.61e+06</td> <td>  2.1e+06</td>\n",
       "</tr>\n",
       "<tr>\n",
       "  <th>launch_Month_5</th>   <td> -1.47e+06</td> <td>  1.2e+06</td> <td>   -1.223</td> <td> 0.229</td> <td>-3.91e+06</td> <td> 9.69e+05</td>\n",
       "</tr>\n",
       "<tr>\n",
       "  <th>launch_Month_6</th>   <td>-9.843e+05</td> <td> 1.08e+06</td> <td>   -0.913</td> <td> 0.367</td> <td>-3.17e+06</td> <td>  1.2e+06</td>\n",
       "</tr>\n",
       "<tr>\n",
       "  <th>launch_Month_7</th>   <td>-5.773e+05</td> <td> 1.23e+06</td> <td>   -0.471</td> <td> 0.641</td> <td>-3.07e+06</td> <td> 1.91e+06</td>\n",
       "</tr>\n",
       "<tr>\n",
       "  <th>launch_Month_8</th>   <td>-6.882e+05</td> <td> 9.16e+05</td> <td>   -0.752</td> <td> 0.457</td> <td>-2.55e+06</td> <td> 1.17e+06</td>\n",
       "</tr>\n",
       "<tr>\n",
       "  <th>launch_Month_9</th>   <td> 2.163e+06</td> <td> 1.47e+06</td> <td>    1.473</td> <td> 0.150</td> <td>-8.17e+05</td> <td> 5.14e+06</td>\n",
       "</tr>\n",
       "</table>\n",
       "<table class=\"simpletable\">\n",
       "<tr>\n",
       "  <th>Omnibus:</th>       <td> 5.319</td> <th>  Durbin-Watson:     </th> <td>   2.159</td>\n",
       "</tr>\n",
       "<tr>\n",
       "  <th>Prob(Omnibus):</th> <td> 0.070</td> <th>  Jarque-Bera (JB):  </th> <td>   5.402</td>\n",
       "</tr>\n",
       "<tr>\n",
       "  <th>Skew:</th>          <td> 0.333</td> <th>  Prob(JB):          </th> <td>  0.0671</td>\n",
       "</tr>\n",
       "<tr>\n",
       "  <th>Kurtosis:</th>      <td> 3.910</td> <th>  Cond. No.          </th> <td>1.25e+16</td>\n",
       "</tr>\n",
       "</table><br/><br/>Warnings:<br/>[1] Standard Errors assume that the covariance matrix of the errors is correctly specified.<br/>[2] The smallest eigenvalue is 3.68e-28. This might indicate that there are<br/>strong multicollinearity problems or that the design matrix is singular."
      ],
      "text/plain": [
       "<class 'statsmodels.iolib.summary.Summary'>\n",
       "\"\"\"\n",
       "                            OLS Regression Results                            \n",
       "==============================================================================\n",
       "Dep. Variable:                revenue   R-squared:                       0.747\n",
       "Model:                            OLS   Adj. R-squared:                  0.270\n",
       "Method:                 Least Squares   F-statistic:                     1.566\n",
       "Date:                Fri, 23 Oct 2020   Prob (F-statistic):             0.0749\n",
       "Time:                        22:15:59   Log-Likelihood:                -1523.5\n",
       "No. Observations:                 102   AIC:                             3181.\n",
       "Df Residuals:                      35   BIC:                             3357.\n",
       "Df Model:                          66                                         \n",
       "Covariance Type:            nonrobust                                         \n",
       "====================================================================================\n",
       "                       coef    std err          t      P>|t|      [0.025      0.975]\n",
       "------------------------------------------------------------------------------------\n",
       "City Group       -1.567e+05   5.42e+05     -0.289      0.774   -1.26e+06    9.44e+05\n",
       "P1                1.672e+05   2.86e+05      0.586      0.562   -4.13e+05    7.47e+05\n",
       "P10              -8.166e+05   1.35e+06     -0.607      0.548   -3.55e+06    1.92e+06\n",
       "P11              -2.011e+05   2.55e+05     -0.788      0.436   -7.19e+05    3.17e+05\n",
       "P12              -4.117e+05   6.42e+05     -0.641      0.526   -1.72e+06    8.92e+05\n",
       "P13               1.564e+05   1.19e+06      0.132      0.896   -2.26e+06    2.57e+06\n",
       "P14              -2.727e+05   3.84e+05     -0.710      0.482   -1.05e+06    5.07e+05\n",
       "P15              -4.904e+05   4.16e+05     -1.180      0.246   -1.33e+06    3.53e+05\n",
       "P16               -1.68e+05   3.86e+05     -0.435      0.666   -9.52e+05    6.16e+05\n",
       "P17               3.234e+05    3.7e+05      0.873      0.389   -4.29e+05    1.08e+06\n",
       "P18              -8.559e+04   3.73e+05     -0.230      0.820   -8.42e+05    6.71e+05\n",
       "P19              -9.046e+04   1.04e+05     -0.866      0.392   -3.02e+05    1.21e+05\n",
       "P2                1.965e+05   3.27e+05      0.601      0.552   -4.67e+05     8.6e+05\n",
       "P20              -1.568e+05   1.84e+05     -0.852      0.400   -5.31e+05    2.17e+05\n",
       "P21                -7.8e+04   2.36e+05     -0.331      0.743   -5.57e+05    4.01e+05\n",
       "P22              -1.206e+05   2.63e+05     -0.459      0.649   -6.54e+05    4.13e+05\n",
       "P23               3.134e+05    1.4e+05      2.246      0.031    3.02e+04    5.97e+05\n",
       "P24               1.621e+05   6.18e+05      0.262      0.795   -1.09e+06    1.42e+06\n",
       "P25               2.711e+05   5.57e+05      0.487      0.629   -8.59e+05     1.4e+06\n",
       "P26              -3.576e+05   7.18e+05     -0.498      0.622   -1.81e+06     1.1e+06\n",
       "P27              -2.787e+04   2.26e+05     -0.123      0.903   -4.87e+05    4.31e+05\n",
       "P28               2.774e+05   2.56e+05      1.085      0.285   -2.41e+05    7.96e+05\n",
       "P29               1.968e+05   2.82e+05      0.697      0.490   -3.76e+05     7.7e+05\n",
       "P3                2.761e+05   3.26e+05      0.847      0.403   -3.86e+05    9.38e+05\n",
       "P30              -3.382e+05   2.18e+05     -1.552      0.130    -7.8e+05    1.04e+05\n",
       "P31                4.15e+05   3.16e+05      1.313      0.198   -2.27e+05    1.06e+06\n",
       "P32              -6.307e+05   2.88e+05     -2.191      0.035   -1.22e+06   -4.63e+04\n",
       "P33               -8.28e+04   4.26e+05     -0.194      0.847   -9.47e+05    7.82e+05\n",
       "P34              -1.442e+05   3.38e+05     -0.426      0.673   -8.31e+05    5.43e+05\n",
       "P35               5.635e+05   3.81e+05      1.477      0.149   -2.11e+05    1.34e+06\n",
       "P36               9.004e+05   6.43e+05      1.401      0.170   -4.04e+05    2.21e+06\n",
       "P37               1.912e+05   3.14e+05      0.609      0.546   -4.46e+05    8.28e+05\n",
       "P4                7680.2697   4.43e+05      0.017      0.986   -8.92e+05    9.08e+05\n",
       "P5                3.051e+05   3.09e+05      0.989      0.330   -3.21e+05    9.32e+05\n",
       "P6                2.945e+04   2.13e+05      0.138      0.891   -4.03e+05    4.62e+05\n",
       "P7                5.363e+04   2.11e+05      0.255      0.801   -3.74e+05    4.81e+05\n",
       "P8               -4.517e+05   5.52e+05     -0.818      0.419   -1.57e+06    6.69e+05\n",
       "P9                8.282e+05   9.68e+05      0.855      0.398   -1.14e+06    2.79e+06\n",
       "Type             -3.358e+05   6.45e+05     -0.520      0.606   -1.65e+06    9.74e+05\n",
       "launch_year_1996   5.78e+06   4.08e+06      1.417      0.165    -2.5e+06    1.41e+07\n",
       "launch_year_1997  1.586e+07   7.72e+06      2.055      0.047    1.92e+05    3.15e+07\n",
       "launch_year_1998  4.642e+06    3.4e+06      1.365      0.181   -2.26e+06    1.15e+07\n",
       "launch_year_1999  5.427e+06   3.61e+06      1.505      0.141   -1.89e+06    1.27e+07\n",
       "launch_year_2000  6.277e+06   3.51e+06      1.791      0.082   -8.39e+05    1.34e+07\n",
       "launch_year_2001  9.909e-09   4.62e-09      2.147      0.039    5.38e-10    1.93e-08\n",
       "launch_year_2002  1.542e+06   3.66e+06      0.421      0.676   -5.89e+06    8.97e+06\n",
       "launch_year_2003 -5.721e-08   2.84e-08     -2.017      0.051   -1.15e-07    3.69e-10\n",
       "launch_year_2004  1.668e+06   3.35e+06      0.498      0.621   -5.13e+06    8.46e+06\n",
       "launch_year_2005  5.331e+06   3.47e+06      1.538      0.133    -1.7e+06    1.24e+07\n",
       "launch_year_2006  3.122e+06   3.52e+06      0.887      0.381   -4.02e+06    1.03e+07\n",
       "launch_year_2007  4.265e+06   3.45e+06      1.238      0.224   -2.73e+06    1.13e+07\n",
       "launch_year_2008  5.368e+06   3.24e+06      1.657      0.106   -1.21e+06    1.19e+07\n",
       "launch_year_2009  4.146e+06   3.22e+06      1.288      0.206   -2.39e+06    1.07e+07\n",
       "launch_year_2010  3.683e+06   3.35e+06      1.099      0.279   -3.12e+06    1.05e+07\n",
       "launch_year_2011  4.049e+06   3.31e+06      1.223      0.229   -2.67e+06    1.08e+07\n",
       "launch_year_2012  4.175e+06   3.39e+06      1.232      0.226    -2.7e+06    1.11e+07\n",
       "launch_year_2013   2.89e+06   3.33e+06      0.867      0.392   -3.88e+06    9.66e+06\n",
       "launch_year_2014  3.354e+06   3.68e+06      0.913      0.368   -4.11e+06    1.08e+07\n",
       "launch_Month_10   -6.91e+04   9.85e+05     -0.070      0.944   -2.07e+06    1.93e+06\n",
       "launch_Month_11   1.042e+06   1.01e+06      1.032      0.309   -1.01e+06    3.09e+06\n",
       "launch_Month_12  -6.999e+05   1.04e+06     -0.671      0.507   -2.82e+06    1.42e+06\n",
       "launch_Month_2    1.588e+05   1.02e+06      0.156      0.877   -1.91e+06    2.23e+06\n",
       "launch_Month_3    -6.18e+05   1.02e+06     -0.604      0.550    -2.7e+06    1.46e+06\n",
       "launch_Month_4   -7.533e+05   1.41e+06     -0.536      0.595   -3.61e+06     2.1e+06\n",
       "launch_Month_5    -1.47e+06    1.2e+06     -1.223      0.229   -3.91e+06    9.69e+05\n",
       "launch_Month_6   -9.843e+05   1.08e+06     -0.913      0.367   -3.17e+06     1.2e+06\n",
       "launch_Month_7   -5.773e+05   1.23e+06     -0.471      0.641   -3.07e+06    1.91e+06\n",
       "launch_Month_8   -6.882e+05   9.16e+05     -0.752      0.457   -2.55e+06    1.17e+06\n",
       "launch_Month_9    2.163e+06   1.47e+06      1.473      0.150   -8.17e+05    5.14e+06\n",
       "==============================================================================\n",
       "Omnibus:                        5.319   Durbin-Watson:                   2.159\n",
       "Prob(Omnibus):                  0.070   Jarque-Bera (JB):                5.402\n",
       "Skew:                           0.333   Prob(JB):                       0.0671\n",
       "Kurtosis:                       3.910   Cond. No.                     1.25e+16\n",
       "==============================================================================\n",
       "\n",
       "Warnings:\n",
       "[1] Standard Errors assume that the covariance matrix of the errors is correctly specified.\n",
       "[2] The smallest eigenvalue is 3.68e-28. This might indicate that there are\n",
       "strong multicollinearity problems or that the design matrix is singular.\n",
       "\"\"\""
      ]
     },
     "execution_count": 48,
     "metadata": {},
     "output_type": "execute_result"
    }
   ],
   "source": [
    "import statsmodels.api as smf\n",
    "results = smf.OLS(y_train,X_train).fit()\n",
    "results.summary()"
   ]
  },
  {
   "cell_type": "markdown",
   "metadata": {
    "id": "zQ-Ehkc1ePl3"
   },
   "source": [
    "## 3. Modeling"
   ]
  },
  {
   "cell_type": "code",
   "execution_count": 49,
   "metadata": {
    "colab": {
     "base_uri": "https://localhost:8080/",
     "height": 388
    },
    "id": "LkuAOJDEPY4n",
    "outputId": "e0720698-6fa0-4fd6-9832-7b7dc4b27625"
   },
   "outputs": [
    {
     "name": "stderr",
     "output_type": "stream",
     "text": [
      "/opt/anaconda3/lib/python3.7/site-packages/sklearn/linear_model/_logistic.py:764: ConvergenceWarning: lbfgs failed to converge (status=1):\n",
      "STOP: TOTAL NO. of ITERATIONS REACHED LIMIT.\n",
      "\n",
      "Increase the number of iterations (max_iter) or scale the data as shown in:\n",
      "    https://scikit-learn.org/stable/modules/preprocessing.html\n",
      "Please also refer to the documentation for alternative solver options:\n",
      "    https://scikit-learn.org/stable/modules/linear_model.html#logistic-regression\n",
      "  extra_warning_msg=_LOGISTIC_SOLVER_CONVERGENCE_MSG)\n"
     ]
    },
    {
     "data": {
      "text/html": [
       "<div>\n",
       "<style scoped>\n",
       "    .dataframe tbody tr th:only-of-type {\n",
       "        vertical-align: middle;\n",
       "    }\n",
       "\n",
       "    .dataframe tbody tr th {\n",
       "        vertical-align: top;\n",
       "    }\n",
       "\n",
       "    .dataframe thead th {\n",
       "        text-align: right;\n",
       "    }\n",
       "</style>\n",
       "<table border=\"1\" class=\"dataframe\">\n",
       "  <thead>\n",
       "    <tr style=\"text-align: right;\">\n",
       "      <th></th>\n",
       "      <th>MAE</th>\n",
       "      <th>MSE</th>\n",
       "      <th>R2-score</th>\n",
       "    </tr>\n",
       "  </thead>\n",
       "  <tbody>\n",
       "    <tr>\n",
       "      <td>Linear Regression</td>\n",
       "      <td>1.904764e+06</td>\n",
       "      <td>5.764211e+12</td>\n",
       "      <td>-1.274732</td>\n",
       "    </tr>\n",
       "    <tr>\n",
       "      <td>Logistic Regression</td>\n",
       "      <td>1.302039e+06</td>\n",
       "      <td>2.478689e+12</td>\n",
       "      <td>0.021835</td>\n",
       "    </tr>\n",
       "    <tr>\n",
       "      <td>Decision Tree</td>\n",
       "      <td>1.579316e+06</td>\n",
       "      <td>3.402134e+12</td>\n",
       "      <td>-0.342585</td>\n",
       "    </tr>\n",
       "    <tr>\n",
       "      <td>Support Vector Machines</td>\n",
       "      <td>1.407327e+06</td>\n",
       "      <td>2.555855e+12</td>\n",
       "      <td>-0.008618</td>\n",
       "    </tr>\n",
       "    <tr>\n",
       "      <td>K-nearest Neighbors</td>\n",
       "      <td>1.171290e+06</td>\n",
       "      <td>1.983233e+12</td>\n",
       "      <td>0.217356</td>\n",
       "    </tr>\n",
       "    <tr>\n",
       "      <td>XGBoost</td>\n",
       "      <td>1.074910e+06</td>\n",
       "      <td>1.959013e+12</td>\n",
       "      <td>0.226914</td>\n",
       "    </tr>\n",
       "  </tbody>\n",
       "</table>\n",
       "</div>"
      ],
      "text/plain": [
       "                                  MAE           MSE  R2-score\n",
       "Linear Regression        1.904764e+06  5.764211e+12 -1.274732\n",
       "Logistic Regression      1.302039e+06  2.478689e+12  0.021835\n",
       "Decision Tree            1.579316e+06  3.402134e+12 -0.342585\n",
       "Support Vector Machines  1.407327e+06  2.555855e+12 -0.008618\n",
       "K-nearest Neighbors      1.171290e+06  1.983233e+12  0.217356\n",
       "XGBoost                  1.074910e+06  1.959013e+12  0.226914"
      ]
     },
     "execution_count": 49,
     "metadata": {},
     "output_type": "execute_result"
    }
   ],
   "source": [
    "from sklearn.linear_model import LinearRegression\n",
    "from sklearn.linear_model import LogisticRegression\n",
    "from sklearn.tree import DecisionTreeRegressor\n",
    "from sklearn.svm import SVR\n",
    "from sklearn.neighbors import KNeighborsRegressor\n",
    "from xgboost import XGBRegressor\n",
    "from sklearn.metrics import mean_absolute_error,mean_squared_error,r2_score\n",
    "from sklearn.model_selection import cross_val_score\n",
    "\n",
    "regressors = {\n",
    "    'Linear Regression' : LinearRegression(),\n",
    "    'Logistic Regression' : LogisticRegression(),\n",
    "    'Decision Tree' : DecisionTreeRegressor(),\n",
    "    'Support Vector Machines' : SVR(),\n",
    "    'K-nearest Neighbors' : KNeighborsRegressor(),\n",
    "    'XGBoost' : XGBRegressor()\n",
    "}\n",
    "results=pd.DataFrame(columns=['MAE','MSE','R2-score'])\n",
    "for method,func in regressors.items():\n",
    "    func.fit(X_train,y_train)\n",
    "    pred = func.predict(X_test)\n",
    "    results.loc[method]= [mean_absolute_error(y_test,pred),\n",
    "                          mean_squared_error(y_test,pred),\n",
    "                          r2_score(y_test,pred)\n",
    "                         ]\n",
    "results"
   ]
  },
  {
   "cell_type": "markdown",
   "metadata": {
    "id": "dx2u7KlNl10j"
   },
   "source": [
    "## GridSearchCV is used to find best parameters from the listed hyperparameters"
   ]
  },
  {
   "cell_type": "markdown",
   "metadata": {
    "id": "4XwuGX5MzFL6"
   },
   "source": [
    "## XGB"
   ]
  },
  {
   "cell_type": "code",
   "execution_count": 50,
   "metadata": {
    "colab": {
     "base_uri": "https://localhost:8080/",
     "height": 153
    },
    "id": "38QfW4pLmNHb",
    "outputId": "64b400f3-68b6-4c07-b8a1-c6def5a3e509"
   },
   "outputs": [
    {
     "name": "stdout",
     "output_type": "stream",
     "text": [
      "Fitting 3 folds for each of 32 candidates, totalling 96 fits\n"
     ]
    },
    {
     "name": "stderr",
     "output_type": "stream",
     "text": [
      "[Parallel(n_jobs=5)]: Using backend LokyBackend with 5 concurrent workers.\n",
      "[Parallel(n_jobs=5)]: Done  40 tasks      | elapsed:    3.9s\n",
      "[Parallel(n_jobs=5)]: Done  96 out of  96 | elapsed:    6.0s finished\n"
     ]
    },
    {
     "name": "stdout",
     "output_type": "stream",
     "text": [
      "0.06086269423406391\n",
      "{'colsample_bytree': 0.7, 'learning_rate': 0.03, 'max_depth': 6, 'min_child_weight': 4, 'n_estimators': 500, 'subsample': 0.7}\n",
      "Done\n"
     ]
    }
   ],
   "source": [
    "from sklearn.model_selection import GridSearchCV\n",
    "from sklearn.metrics import accuracy_score\n",
    "parameters = {'learning_rate': [.03, 0.05, .07,.09], \n",
    "              'max_depth': [6,7,8,9],\n",
    "              'min_child_weight': [4],\n",
    "              'subsample': [0.7],\n",
    "              'colsample_bytree': [0.7],\n",
    "              'n_estimators': [500,700]}\n",
    "\n",
    "xgb_grid = GridSearchCV(XGBRegressor(),\n",
    "                        parameters,\n",
    "                        cv = 3,\n",
    "                        n_jobs = 5,\n",
    "                        verbose=True)\n",
    "\n",
    "xgb_grid.fit(X,y)\n",
    "y_pred = xgb_grid.predict(processed_test_data)\n",
    "\n",
    "print(xgb_grid.best_score_)\n",
    "print(xgb_grid.best_params_)\n",
    "submission = pd.DataFrame({\n",
    "        \"Id\": test_data[\"Id\"],\n",
    "        \"Prediction\": y_pred\n",
    "    })\n",
    "submission.to_csv('SubmissionXGB.csv',header=True, index=False)\n",
    "print('Done')"
   ]
  },
  {
   "cell_type": "code",
   "execution_count": null,
   "metadata": {
    "id": "6dHKWI0SCrLq"
   },
   "outputs": [],
   "source": []
  },
  {
   "cell_type": "markdown",
   "metadata": {
    "id": "6txlOQiiy-nx"
   },
   "source": [
    "## KNN "
   ]
  },
  {
   "cell_type": "code",
   "execution_count": 51,
   "metadata": {
    "colab": {
     "base_uri": "https://localhost:8080/",
     "height": 136
    },
    "id": "YNTfFg-eu33r",
    "outputId": "cc5766d9-7eae-4046-f804-63161b284c50"
   },
   "outputs": [
    {
     "name": "stdout",
     "output_type": "stream",
     "text": [
      "Fitting 3 folds for each of 64 candidates, totalling 192 fits\n"
     ]
    },
    {
     "name": "stderr",
     "output_type": "stream",
     "text": [
      "[Parallel(n_jobs=3)]: Using backend LokyBackend with 3 concurrent workers.\n",
      "[Parallel(n_jobs=3)]: Done 192 out of 192 | elapsed:    0.7s finished\n"
     ]
    },
    {
     "name": "stdout",
     "output_type": "stream",
     "text": [
      "0.17600376130361892\n",
      "{'leaf_size': 30, 'metric': 'manhattan', 'n_neighbors': 5, 'weights': 'distance'}\n",
      "Done\n"
     ]
    }
   ],
   "source": [
    "grid_params = {\n",
    "    'n_neighbors' : [3,5,7,9],\n",
    "    'weights' : ['uniform', 'distance'],\n",
    "    'metric' : ['euclidean', 'manhattan'],\n",
    "    'leaf_size' : [30,40,50,60]\n",
    "}\n",
    "\n",
    "knn_grid = GridSearchCV(KNeighborsRegressor(),\n",
    "                        grid_params,\n",
    "                        cv = 3,\n",
    "                        n_jobs = 3,\n",
    "                        verbose = True\n",
    ")\n",
    "knn_grid.fit(X,y)\n",
    "print(knn_grid.best_score_)\n",
    "print(knn_grid.best_params_)\n",
    "y_pred = knn_grid.predict(processed_test_data)\n",
    "\n",
    "submission = pd.DataFrame({\n",
    "        \"Id\": test_data[\"Id\"],\n",
    "        \"Prediction\": y_pred\n",
    "    })\n",
    "submission.to_csv('SubmissionKNN.csv',header=True, index=False)\n",
    "print('Done')"
   ]
  },
  {
   "cell_type": "markdown",
   "metadata": {
    "id": "qmqwqt2EAm9R"
   },
   "source": [
    "## **Conclusion**\n",
    "The TFI competition was a tough challenge to overcome in terms of model selection. \n",
    "\n",
    "XGBoost and KNN are models that performed better than others. \n",
    "\n",
    "After turning in the submission, I got a score of **1802106.31825** for **XGBoost** model. And **1809001.48669** when using the **KNN** model. So, it is fair to say that XGBoost has performed well. \n"
   ]
  },
  {
   "cell_type": "markdown",
   "metadata": {
    "id": "5i8L1LSP81m_"
   },
   "source": [
    "## **Contribution**\n",
    "> **Modeling** : Contributed towards the hyperparameter tuning of KNN and XGB\n",
    "\n",
    "> **Preprocessing** : Contributed towards the month and year extraction of the data and encoding of the categorical variables. \n",
    "\n",
    "> **EDA** : Found the pairwise correlation between the target variable(revenue) and other variables. "
   ]
  },
  {
   "cell_type": "markdown",
   "metadata": {
    "id": "Jtkmjr1oJOGC"
   },
   "source": [
    "## **Citations** \n",
    "\n",
    "https://scikit-learn.org/stable/modules/generated/sklearn.model_selection.GridSearchCV.html\n",
    "\n",
    "https://scikit-learn.org/stable/modules/generated/sklearn.neighbors.KNeighborsRegressor.html\n",
    "\n",
    "https://www.kaggle.com/c/restaurant-revenue-prediction/overview\n",
    "\n",
    "https://medium.com/@erikgreenj/k-neighbors-classifier-with-gridsearchcv-basics-3c445ddeb657\n",
    "\n",
    "https://towardsdatascience.com/grid-search-for-hyperparameter-tuning-9f63945e8fec\n",
    "\n",
    "https://towardsdatascience.com/all-about-categorical-variable-encoding-305f3361fd02\n",
    "\n",
    "\n"
   ]
  },
  {
   "cell_type": "markdown",
   "metadata": {
    "id": "XREQN881-vft"
   },
   "source": [
    "## **Licensing** \n",
    "\n",
    "\n",
    "Copyright 2020 Rohan Kapadnis\n",
    "\n",
    "Permission is hereby granted, free of charge, to any person obtaining a copy of this software and associated documentation files (the \"Software\"), to deal in the Software without restriction, including without limitation the rights to use, copy, modify, merge, publish, distribute, sublicense, and/or sell copies of the Software, and to permit persons to whom the Software is furnished to do so, subject to the following conditions:\n",
    "\n",
    "The above copyright notice and this permission notice shall be included in all copies or substantial portions of the Software.\n",
    "\n",
    "THE SOFTWARE IS PROVIDED \"AS IS\", WITHOUT WARRANTY OF ANY KIND, EXPRESS OR IMPLIED, INCLUDING BUT NOT LIMITED TO THE WARRANTIES OF MERCHANTABILITY, FITNESS FOR A PARTICULAR PURPOSE AND NONINFRINGEMENT. IN NO EVENT SHALL THE AUTHORS OR COPYRIGHT HOLDERS BE LIABLE FOR ANY CLAIM, DAMAGES OR OTHER LIABILITY, WHETHER IN AN ACTION OF CONTRACT, TORT OR OTHERWISE, ARISING FROM, OUT OF OR IN CONNECTION WITH THE SOFTWARE OR THE USE OR OTHER DEALINGS IN THE SOFTWARE."
   ]
  }
 ],
 "metadata": {
  "colab": {
   "name": "Kapadnis_Rohan_Assignment_2",
   "provenance": []
  },
  "kernelspec": {
   "display_name": "Python 3",
   "language": "python",
   "name": "python3"
  },
  "language_info": {
   "codemirror_mode": {
    "name": "ipython",
    "version": 3
   },
   "file_extension": ".py",
   "mimetype": "text/x-python",
   "name": "python",
   "nbconvert_exporter": "python",
   "pygments_lexer": "ipython3",
   "version": "3.7.4"
  }
 },
 "nbformat": 4,
 "nbformat_minor": 1
}
